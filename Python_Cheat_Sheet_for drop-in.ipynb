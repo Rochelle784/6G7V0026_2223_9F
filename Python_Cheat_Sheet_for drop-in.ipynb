{
 "cells": [
  {
   "cell_type": "markdown",
   "metadata": {
    "id": "grrqL0u2Kj7T"
   },
   "source": [
    "# Python Cheat Sheet"
   ]
  },
  {
   "cell_type": "markdown",
   "metadata": {
    "id": "APT0Qwh8KhMU"
   },
   "source": [
    "## **Importing modules and libraries**\n",
    "The python programming language comes with a number of built-in functions that can only be called if libraries have first been imported using the import statement.\n",
    "\n",
    "*   *Do this at the beginning of every project*\n",
    "\n"
   ]
  },
  {
   "cell_type": "code",
   "execution_count": null,
   "metadata": {
    "id": "R46ub181LNky"
   },
   "outputs": [],
   "source": [
    "import pandas as pd               # pandas mainly works with tabular data, utilises DataFrames and Series\n",
    "import numpy as np                # NumPy works with numerical data, utilises Arrays\n",
    "import matplotlib.pyplot as plt   # a plotting library extension of NumPy\n",
    "import seaborn as sns             # data visualization library based on matplotlib"
   ]
  },
  {
   "cell_type": "markdown",
   "metadata": {
    "id": "D7f_ATjtOdp7"
   },
   "source": [
    "Coding *as plt*, for example, allows a shorter extension to be used so that when the module is called one doesn't have to rewrite the longer name, *matplotlib.pyplot*, but can use the abbreviated *plt*"
   ]
  },
  {
   "cell_type": "markdown",
   "metadata": {
    "id": "6xK92yebM_2A"
   },
   "source": [
    "## **Uploading datafiles from a mounted drive / local file repository**"
   ]
  },
  {
   "cell_type": "markdown",
   "metadata": {
    "id": "LlaU7CI4OM5T"
   },
   "source": [
    "When files are uploaded from a local repository a dataframe must be created before data manipulation can occur."
   ]
  },
  {
   "cell_type": "code",
   "execution_count": null,
   "metadata": {
    "id": "r_T7VVB5NnFw"
   },
   "outputs": [],
   "source": [
    "from google.colab import files\n",
    "  \n",
    "auto_df = files.upload()          # loads file into Colab session folder"
   ]
  },
  {
   "cell_type": "code",
   "execution_count": null,
   "metadata": {
    "id": "w4Nx4k8TN3uf"
   },
   "outputs": [],
   "source": [
    "name_df = pd.read_csv(\"filename.csv\")       # creates a data frame from the .csv file\n",
    "print(name_df.head())"
   ]
  },
  {
   "cell_type": "markdown",
   "metadata": {
    "id": "eiV843JgiG-d"
   },
   "source": [
    "or"
   ]
  },
  {
   "cell_type": "code",
   "execution_count": null,
   "metadata": {
    "id": "z3wEhrEtiH7f"
   },
   "outputs": [],
   "source": [
    "from google.colab import drive\n",
    "drive.mount('/content/drive/MyDrive/Colab')   # loads file directly from Google Drive mounted to PC"
   ]
  },
  {
   "cell_type": "markdown",
   "metadata": {
    "id": "sBIj2dPIlJL-"
   },
   "source": [
    "## DataFrame methods for Inspecting Data"
   ]
  },
  {
   "cell_type": "code",
   "execution_count": null,
   "metadata": {
    "id": "BFznzw2klL4N"
   },
   "outputs": [],
   "source": [
    "df.head()         # returns top n (5 by default) rows of a data frame or series\n",
    "df.tail()         # returns bottom n (5 by default) rows of a data frame or series\n",
    "df.sample()       # returns a random sample (default is 1) of the list without repeats"
   ]
  },
  {
   "cell_type": "markdown",
   "metadata": {
    "id": "NSTtmSHaqrAi"
   },
   "source": [
    "## Summarising Data"
   ]
  },
  {
   "cell_type": "code",
   "execution_count": null,
   "metadata": {
    "id": "DBS0RfSfqunQ"
   },
   "outputs": [],
   "source": [
    "df.info()         # returns a concise summary of the DataFrame\n",
    "df.describe()     # computes a summary of statistics relating to the DataFrame columns"
   ]
  },
  {
   "cell_type": "markdown",
   "metadata": {
    "id": "BbMnBYB909Ci"
   },
   "source": [
    "## Sorting and Subsetting"
   ]
  },
  {
   "cell_type": "code",
   "execution_count": null,
   "metadata": {
    "id": "G0vksXsS0gtc"
   },
   "outputs": [],
   "source": [
    "df.sort_values(\"column name\")                     # by default sorts in ascending order\n",
    "df.sort_values(\"column name\", ascending=False)    # sorts in descending order\n",
    "df.sort_values([\"column1 name\", \"column2 name\"])  # sorts multiple columns\n",
    "\n",
    "# to sort multiple columns with different ascending/descending\n",
    "df = df.sort_values([\"column1 name\", \"column2 name\"], ascending=[True, False])\n",
    "\n",
    "df[\"column name\"]                                 # subsets one column \n",
    "df[[\"column1 name\", \"column2 name\"]]              # outer square brackets subset df, inner square brackets creates lists of column names to subset. \n",
    "                                                  # means can provide a separate list of column names as a variable and then use that list to perform the same subsetting  \n",
    "# can also be written as...\n",
    "cols_to_subset = [\"column1 name\", \"column2 name\"]\n",
    "df[cols_to_subset]    \n",
    "\n",
    "# for True or False values\n",
    "df[\"column name\"] > 50\n",
    "df[df[\"column name\"] > 50]                        # use logical conditions inside square brackets to subset rows of interest\n",
    "df[df[\"column name\"] == \"text\"]                   # to subset based on text remember to use double quotation marks\n",
    "df[df[\"column name\"] == \"year-month-day\"]         # to subset based on dates also use double quotes"
   ]
  },
  {
   "cell_type": "markdown",
   "metadata": {
    "id": "_vL-2yLk3R7H"
   },
   "source": [
    "### Subsetting based on multiple conditions"
   ]
  },
  {
   "cell_type": "code",
   "execution_count": null,
   "metadata": {
    "id": "y_F7kiqU3W-x"
   },
   "outputs": [],
   "source": [
    "# both conditions must be met\n",
    "variable1 name = df[\"column1 name\"] == \"text\"\n",
    "variable2 name = df[\"column2 name\"] == \"text\"\n",
    "df[variable1 name & variable2 name] \n",
    "\n",
    "# on one line of code remember to add parentheses around each condition\n",
    "df[ (df[\"column1 name\"] == \"text\") & (df[\"column2 name\"] == \"text\")]\n",
    "\n",
    "# filtering on multiple variables on categorical data use .isin()\n",
    "variable name = df[\"column name\"].isin([\"variable1 name\", \"variable2 name\"])\n",
    "df[variable name]"
   ]
  },
  {
   "cell_type": "markdown",
   "metadata": {
    "id": "0UHI0dPzrP84"
   },
   "source": [
    "## Descriptive Statistics"
   ]
  },
  {
   "cell_type": "code",
   "execution_count": null,
   "metadata": {
    "id": "dtSz0jeurSBE"
   },
   "outputs": [],
   "source": [
    "df.count()        # returns number of non-null observations\n",
    "df.sum()          # returnes sum of values\n",
    "df.mean()         # returns mean of values\n",
    "df.median()       # returns median of values\n",
    "df.mode()         # returns mode of values\n",
    "df.std()          # returns standard deviation of the values\n",
    "df.min()          # returns minimum value\n",
    "df.max()          # returns maximum value\n",
    "df.abs()          # returns absolute value\n",
    "df.prod()         # returns product of values\n",
    "df.cumsum()       # returns cumulative sum of values\n",
    "df.cumprod()      # returns cumulative product of values"
   ]
  },
  {
   "cell_type": "code",
   "execution_count": null,
   "metadata": {
    "id": "n3SHeCqaB5EO"
   },
   "outputs": [],
   "source": [
    "df['CategoryName'].value_counts()   # computes a Series containing counts of non null values"
   ]
  },
  {
   "cell_type": "code",
   "execution_count": null,
   "metadata": {
    "id": "Dg0rDNnhC4lu"
   },
   "outputs": [],
   "source": [
    "df.query(\"CategoryName>Number\")          # method based on evaluated strings involving columns of the DataFrame"
   ]
  },
  {
   "cell_type": "markdown",
   "metadata": {
    "id": "NCZh8pLl_-1X"
   },
   "source": [
    "## Adding a new column"
   ]
  },
  {
   "cell_type": "code",
   "execution_count": null,
   "metadata": {
    "id": "OmAn-1YfADqA"
   },
   "outputs": [],
   "source": [
    "df[\"new column name\"] = df[\"original column name\"] / 100  # e.g. divides values in original column by 100"
   ]
  },
  {
   "cell_type": "markdown",
   "metadata": {
    "id": "NyUHRmYWAceS"
   },
   "source": [
    "## Multiple manipulations"
   ]
  },
  {
   "cell_type": "code",
   "execution_count": null,
   "metadata": {
    "id": "NDYsFS2vAfWr"
   },
   "outputs": [],
   "source": [
    "# Example - figure out names of skinny, tall dogs\n",
    "\n",
    "# first, define skinny dogs by taking subsets of dogs with bmi < 100\n",
    "bmi_lt_100 = dogs[dogs[\"bmi\"] < 100]     \n",
    "\n",
    "# next, sort dogs in descending order of height to get tallest, skinny dogs at the top\n",
    "bmi_lt_100_height = bmi_lt_100.sort_values(\"height_cm\", ascending=False)                                          # sort \n",
    "\n",
    "# finally, keep only the columns we are interested in\n",
    "bmi_lt_100_height[[\"name\", \"height_cm\", \"bmi\"]]\n"
   ]
  },
  {
   "cell_type": "code",
   "execution_count": null,
   "metadata": {
    "id": "eBpRHlbbTWA6"
   },
   "outputs": [],
   "source": [
    ".pyplot   #subpackage of matplotlib, imported as plt\n",
    "\n",
    "variable x = [list x]         # define variable x\n",
    "variable y = [list y]         # define variable y\n",
    "\n",
    "plt.plot(list x, list y)      # plot a line plot\n",
    "plt.scatter(list x, list y)   # plot a scatter plot\n",
    "plt.show                      # displays the plot\n",
    "\n",
    "plt.xscale('log')             # logarithmic scale on x-axis\n"
   ]
  },
  {
   "cell_type": "markdown",
   "metadata": {
    "id": "wCJprMi1XQ4A"
   },
   "source": [
    "### Basic plots with matplotlib | Histograms"
   ]
  },
  {
   "cell_type": "code",
   "execution_count": null,
   "metadata": {
    "id": "Q1rDcjOCX4xJ"
   },
   "outputs": [],
   "source": [
    "plt.hist(variable, bins=10)   # plot a histogram by specifying the variable and the number of equally-sized bins"
   ]
  },
  {
   "cell_type": "markdown",
   "metadata": {
    "id": "WFfMvHF3ZFQB"
   },
   "source": [
    "## Customisation"
   ]
  },
  {
   "cell_type": "markdown",
   "metadata": {
    "id": "85E5XVjwZNRP"
   },
   "source": [
    "Change colour, shape, labels, axes, etc."
   ]
  },
  {
   "cell_type": "code",
   "execution_count": null,
   "metadata": {
    "id": "QjJYD4eaZiwh"
   },
   "outputs": [],
   "source": [
    "plt.xlabel('label name')      # label x-axis\n",
    "plt.ylabel('label name')      # label y-axis\n",
    "plt.title('title name')       # provide a title\n",
    "\n",
    "plt.yticks([list]),           # start axes from specific number and with specific intervals, i.e. list = 0, 2, 4, 6\n",
    "          [list labels]       # i.e. for population in billions [0B, 2B, 4B, 6B]\n",
    "\n",
    "#To add more data append to previous variable\n",
    "variable x2 = [list] + variable x \n",
    "variable y2 = [list] + variable y\n",
    "\n",
    "plt.grid(True)                # add gridlines"
   ]
  },
  {
   "cell_type": "markdown",
   "metadata": {
    "id": "UlVg5CA1nith"
   },
   "source": [
    "## Indexing and Selecting Data"
   ]
  },
  {
   "cell_type": "code",
   "execution_count": null,
   "metadata": {
    "id": "FbJEQYgpnmlf"
   },
   "outputs": [],
   "source": [
    "df name[\"column name\"]            # use square bracket for column access\n",
    "type(df name[\"column name\"])      # computes type, i.e. Series\n",
    "df name[[\"column name\"]]          # keeps in DataFrame   \n",
    "\n",
    "df name[1:4]                      # row access\n",
    "\n",
    "#In 2D Numpy arrays\n",
    "my_array[rows, columns]           # In pandas use loc and iloc\n",
    "\n",
    "# loc = label-based, iloc = integer position-based\n",
    "\n",
    "\n",
    "df name.loc[\"row of interest\"]          # put label of row of interest inside square brackets, returns pandas Series\n",
    "df name.loc[[\"row of interest\"]]        # for DataFrame, put row of interest inside second pair of square brackets\n",
    "\n",
    "df name.loc[[\"row1\", \"row2\", \"row3\"]]   #select multiple rows \n",
    "\n",
    "#to select rows and columns, add a comma and a second set of square brackets \n",
    "df name.loc[[\"row1\", \"row2\", \"row3\"]], [\"col1\", \"col2\"]  \n",
    "\n",
    "#for all rows use a colon but selected columns specify column names \n",
    "df name.loc[:, [\"col1\", \"col2\"]]\n",
    "\n",
    "#for iloc, instead of using row and column names, use index numbers"
   ]
  },
  {
   "cell_type": "markdown",
   "metadata": {
    "id": "ftIK4YML0F9u"
   },
   "source": [
    "### Comparison Operators\n",
    "\n",
    "> **<**     less than\n",
    "\n",
    "> **<=**    less than or equal to\n",
    "\n",
    "> **>**    greater than\n",
    "\n",
    ">  **>=**  greater than or equal to\n",
    "\n",
    ">  **==**   equal to\n",
    "\n",
    ">  **!=**   not equal to\n",
    "\n"
   ]
  },
  {
   "cell_type": "markdown",
   "metadata": {
    "id": "LrOSS_1I3ZkK"
   },
   "source": [
    "### Boolean Operators\n",
    "\n",
    "> **and**  takes 2 booleans and returns True if both the booleans are True\n",
    "\n",
    "> **or**   takes 2 booleans and returns True if at least one of the booleans is True\n",
    "\n",
    "> **not**  negates the result of the boolean"
   ]
  },
  {
   "cell_type": "markdown",
   "metadata": {
    "id": "8Qg-9hYY9RAN"
   },
   "source": [
    "### Conditional Statements"
   ]
  },
  {
   "cell_type": "markdown",
   "metadata": {
    "id": "ButDFT8g9Vzk"
   },
   "source": [
    "> **if**\n",
    "\n",
    "> **else**\n",
    "\n",
    "> **elif**"
   ]
  },
  {
   "cell_type": "markdown",
   "metadata": {
    "id": "GBobKQ8O_XR7"
   },
   "source": [
    "### Filtering pandas DataFrames"
   ]
  },
  {
   "cell_type": "markdown",
   "metadata": {
    "id": "tyO5PXx8_d7u"
   },
   "source": [
    "3 steps:\n",
    "\n",
    "\n",
    "*   Select column of interest\n",
    "*   Do a comparison on the column of interest\n",
    "*   Use result to compute an appropriate selection on the DataFrame\n",
    "\n",
    "\n",
    "\n"
   ]
  },
  {
   "cell_type": "code",
   "execution_count": null,
   "metadata": {
    "id": "Yu6EPU1Y__2u"
   },
   "outputs": [],
   "source": [
    "# Step 1: Get column\n",
    "\n",
    "df name[\"column name\"]\n",
    "df name.loc[:, \"column name\"]\n",
    "df name.iloc[:,2]     \n",
    "\n",
    "# Step 2: Compare\n",
    "df name[\"column name\"] > 8                  #append value, in this case > 8, to previous code to produce Series containing booleans\n",
    "Series name = df name[\"column name\"] > 8    #store boolean Series  \n",
    "\n",
    "# Step 3: Subset DF\n",
    "df name[Series name]                        #use boolean Series to subset pandas DF\n",
    "\n",
    "# Can also write as one line by putting code that defines Series in square brackets\n",
    "df name[df name[\"column name\"] > 8]\n",
    "\n",
    "#for numpy array use the np.logical_and function\n",
    "import numpy as np\n",
    "np.logical_and(df name[\"column name\"] > 8, df name[\"column name\"] < 10)   # returns result between 8 and 10\n",
    "\n",
    "#to subset, place inside square brackets\n",
    "df name[np.logical_and(df name[\"column name] > 8, df name[\"column name\"] < 10)]"
   ]
  },
  {
   "cell_type": "code",
   "execution_count": null,
   "metadata": {
    "id": "qkGZ9dyjDG3U"
   },
   "outputs": [],
   "source": [
    "#Example\n",
    "\n",
    "# Import cars data\n",
    "import pandas as pd\n",
    "cars = pd.read_csv('cars.csv', index_col = 0)\n",
    "\n",
    "# Extract drives_right column as Series: dr\n",
    "dr = cars[\"drives_right\"]\n",
    "\n",
    "# Use dr to subset cars: sel\n",
    "sel = cars[dr]\n",
    "\n",
    "# Or convert previous 2 lines of code to a one-liner\n",
    "sel = cars[cars['drives_right']]\n",
    "\n",
    "# Print sel\n",
    "print(sel)\n",
    "--------------------------------------------------------------------------------------------\n",
    "# Create car_maniac: observations that have a cars_per_cap over 500\n",
    "car_maniac = cars[cars['cars_per_cap'] > 500]\n",
    "\n",
    "# Print car_maniac\n",
    "print(car_maniac)\n",
    "--------------------------------------------------------------------------------------------\n",
    "# Import numpy, you'll need this\n",
    "import numpy as np\n",
    "\n",
    "# Create medium: observations with cars_per_cap between 100 and 500\n",
    "cpc = cars['cars_per_cap']\n",
    "between = np.logical_and(cpc > 100, cpc < 500)\n",
    "medium = cars[between]\n",
    "\n",
    "# Print medium\n",
    "print(medium)"
   ]
  }
 ],
 "metadata": {
  "colab": {
   "collapsed_sections": [],
   "provenance": []
  },
  "kernelspec": {
   "display_name": "Python 3 (ipykernel)",
   "language": "python",
   "name": "python3"
  },
  "language_info": {
   "codemirror_mode": {
    "name": "ipython",
    "version": 3
   },
   "file_extension": ".py",
   "mimetype": "text/x-python",
   "name": "python",
   "nbconvert_exporter": "python",
   "pygments_lexer": "ipython3",
   "version": "3.9.12"
  }
 },
 "nbformat": 4,
 "nbformat_minor": 1
}
