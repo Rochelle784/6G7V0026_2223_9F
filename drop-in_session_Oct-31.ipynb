{
 "cells": [
  {
   "cell_type": "markdown",
   "id": "896e21a0",
   "metadata": {},
   "source": [
    "# Python Help Session"
   ]
  },
  {
   "cell_type": "markdown",
   "id": "7997d7c7",
   "metadata": {},
   "source": [
    "## Looking back at the basics...\n",
    "\n",
    "We want to always have some kind of pipeline or workflow that involves the minimum processes that we have to go through to write our notebook.\n",
    "\n",
    "For any data exploration notebook you will want to do following these steps:\n",
    "\n",
    "1. Import Libraries and Packages\n",
    "\n",
    "2. Load Data\n",
    "\n",
    "3. Inspect the Data \n",
    "\n",
    "4. First Exploration of the Data\n",
    "\n",
    "5. Clean the Data\n",
    "\n",
    "6. Feature Engineering\n",
    "\n",
    "7. Data Visualisation - second exploration of the data\n",
    "\n",
    "8. Do we have any more questions...? <font color='blue'>Usually, one would loop back through steps 4-7 as new questions and information arise.</font>"
   ]
  },
  {
   "cell_type": "markdown",
   "id": "ca3e7b96",
   "metadata": {},
   "source": [
    "## 1. Import Libraries and Packages\n",
    "\n",
    "Import any libraries that you may need to use. Note that libraries can be imported at any time **BEFORE** they are required - they do not have to be imported at the start unless the first few cells will utilise them."
   ]
  },
  {
   "cell_type": "code",
   "execution_count": 1,
   "id": "20fbfeb9",
   "metadata": {},
   "outputs": [],
   "source": [
    "# Import libraries / packages\n",
    "import numpy as np                    # NumPy works with numerical data - Arrays\n",
    "import pandas as pd                   # Pandas works with tabular data - DataFrame and Series"
   ]
  },
  {
   "cell_type": "code",
   "execution_count": 2,
   "id": "64b7b6b3",
   "metadata": {},
   "outputs": [],
   "source": [
    "# Data visualisation libraries - commonly used\n",
    "import seaborn as sns\n",
    "import matplotlib.pyplot as plt"
   ]
  },
  {
   "cell_type": "markdown",
   "id": "86c2e045",
   "metadata": {},
   "source": [
    "## 2. Load data\n",
    "\n",
    "There are multiple ways to do this and they depend on whether data is stored locally or scrapped from the web. Also remember to specify how the file will be read, i.e. comma-separated, tab-separated, semi-colon-separated, etc. We will go through some here..."
   ]
  },
  {
   "cell_type": "markdown",
   "id": "cc318aa0",
   "metadata": {},
   "source": [
    "*df = dataframe* (insert your own name, in this notebook I use `data`)"
   ]
  },
  {
   "cell_type": "code",
   "execution_count": 3,
   "id": "442acce3",
   "metadata": {},
   "outputs": [],
   "source": [
    "# Load data (for our notebook example)\n",
    "dataset_location = 'https://raw.githubusercontent.com/gerberl/6g7v0026-2122/main/datasets/titanic-kaggle/titanic.csv'\n",
    "data = pd.read_csv(dataset_location)"
   ]
  },
  {
   "cell_type": "code",
   "execution_count": 4,
   "id": "fda70634",
   "metadata": {},
   "outputs": [
    {
     "data": {
      "text/plain": [
       "\"\\ndf = pd.read_csv(dataset_location, sep='\\t') # tab-separated\\ndf = pd.read_csv(dataset_location, sep=';') # semi-colon-separated\\n\""
      ]
     },
     "execution_count": 4,
     "metadata": {},
     "output_type": "execute_result"
    }
   ],
   "source": [
    "# Generic examples\n",
    "# set dataset location \n",
    "'''\n",
    "dataset_location = \"file path/filename.csv\" # stored on a local file path - remember on Windows system to change from '\\' to '/'\n",
    "dataset_location = \"web address.csv\"\n",
    "'''\n",
    "\n",
    "# name and load data \n",
    "'''df = pd.read_csv(dataset_location)'''\n",
    "\n",
    "# if it's not a .csv file then specify the separator\n",
    "'''\n",
    "df = pd.read_csv(dataset_location, sep='\\t') # tab-separated\n",
    "df = pd.read_csv(dataset_location, sep=';') # semi-colon-separated\n",
    "'''"
   ]
  },
  {
   "cell_type": "code",
   "execution_count": 5,
   "id": "69e212a5",
   "metadata": {},
   "outputs": [
    {
     "data": {
      "text/plain": [
       "\"\\nfrom google.colab import drive\\ndrive.mount('/content/drive/MyDrive/Colab')\\n\""
      ]
     },
     "execution_count": 5,
     "metadata": {},
     "output_type": "execute_result"
    }
   ],
   "source": [
    "# For Google Colab users...\n",
    "\n",
    "# Upload data file from a local file repository\n",
    "'''\n",
    "from google.colab import files\n",
    "# upload file into Colab session folder\n",
    "df = files.upload()\n",
    "'''\n",
    "\n",
    "# Upload from Google Drive mounted to PC\n",
    "'''\n",
    "from google.colab import drive\n",
    "drive.mount('/content/drive/MyDrive/Colab')\n",
    "'''"
   ]
  },
  {
   "cell_type": "markdown",
   "id": "7cb0e671",
   "metadata": {},
   "source": [
    "## 3. Inspect the data\n",
    "\n",
    "Again, there are multiple ways to do this but it's important to get a sense of what the data is (shape, types, etc.) so that one can clean the data and frame research and data science questions for data exploration."
   ]
  },
  {
   "cell_type": "markdown",
   "id": "9c6ee97d",
   "metadata": {},
   "source": [
    "#### Inspect data\n",
    "\n",
    "* **df.head()**         &emsp;<font color='green'># returns top n (5 by default, up to 60) rows of a data frame or series</font>\n",
    "* **df.tail()**         &emsp;<font color='green'># returns bottom n (5 by default, up to 60) rows of a data frame or series</font>\n",
    "* **df.sample()**       &emsp;<font color='green'># returns a random sample (default is 1) of the list without repeats</font>\n",
    "\n",
    "#### Summarise data\n",
    "\n",
    "* **df.info()**        &emsp;<font color='green'># returns a concise summary of the DataFrame</font>\n",
    "* **df.describe()**    &emsp;<font color='green'># computes a summary of statistics relating to the DataFrame columns</font>\n",
    "\n",
    "#### Descriptive statistics\n",
    "\n",
    "* **df.count()**          &emsp;<font color='green'># returns number of non-null observations</font>\n",
    "* **df.sum()**            &emsp;<font color='green'># returns sum of values</font>\n",
    "* **df.mean()**           &emsp;<font color='green'># returns mean of values</font>\n",
    "* **df.median()**         &emsp;<font color='green'># returns median of values</font>\n",
    "* **df.mode()**           &emsp;<font color='green'># returns mode of values</font>\n",
    "* **df.std()**            &emsp;<font color='green'># returns standard deviation of the values</font>\n",
    "* **df.min()**            &emsp;<font color='green'># returns minimum value</font>\n",
    "* **df.max()**            &emsp;<font color='green'># returns maximum value</font>\n",
    "<p>\n",
    "* **df['ColumnName'].value_counts()**  &emsp;<font color='green'># computes a Series containing counts of non-null values only on specified column</font></p>"
   ]
  },
  {
   "cell_type": "markdown",
   "id": "b3d76d12",
   "metadata": {},
   "source": [
    "-> Remember that the default for `.head()` and `.tail()` are 5 rows and for `.sample()` it's 1 row"
   ]
  },
  {
   "cell_type": "code",
   "execution_count": 6,
   "id": "faa9fa08",
   "metadata": {},
   "outputs": [
    {
     "data": {
      "text/html": [
       "<div>\n",
       "<style scoped>\n",
       "    .dataframe tbody tr th:only-of-type {\n",
       "        vertical-align: middle;\n",
       "    }\n",
       "\n",
       "    .dataframe tbody tr th {\n",
       "        vertical-align: top;\n",
       "    }\n",
       "\n",
       "    .dataframe thead th {\n",
       "        text-align: right;\n",
       "    }\n",
       "</style>\n",
       "<table border=\"1\" class=\"dataframe\">\n",
       "  <thead>\n",
       "    <tr style=\"text-align: right;\">\n",
       "      <th></th>\n",
       "      <th>PassengerId</th>\n",
       "      <th>Survived</th>\n",
       "      <th>Pclass</th>\n",
       "      <th>Name</th>\n",
       "      <th>Sex</th>\n",
       "      <th>Age</th>\n",
       "      <th>SibSp</th>\n",
       "      <th>Parch</th>\n",
       "      <th>Ticket</th>\n",
       "      <th>Fare</th>\n",
       "      <th>Cabin</th>\n",
       "      <th>Embarked</th>\n",
       "    </tr>\n",
       "  </thead>\n",
       "  <tbody>\n",
       "    <tr>\n",
       "      <th>0</th>\n",
       "      <td>1</td>\n",
       "      <td>0</td>\n",
       "      <td>3</td>\n",
       "      <td>Braund, Mr. Owen Harris</td>\n",
       "      <td>male</td>\n",
       "      <td>22.0</td>\n",
       "      <td>1</td>\n",
       "      <td>0</td>\n",
       "      <td>A/5 21171</td>\n",
       "      <td>7.2500</td>\n",
       "      <td>NaN</td>\n",
       "      <td>S</td>\n",
       "    </tr>\n",
       "    <tr>\n",
       "      <th>1</th>\n",
       "      <td>2</td>\n",
       "      <td>1</td>\n",
       "      <td>1</td>\n",
       "      <td>Cumings, Mrs. John Bradley (Florence Briggs Th...</td>\n",
       "      <td>female</td>\n",
       "      <td>38.0</td>\n",
       "      <td>1</td>\n",
       "      <td>0</td>\n",
       "      <td>PC 17599</td>\n",
       "      <td>71.2833</td>\n",
       "      <td>C85</td>\n",
       "      <td>C</td>\n",
       "    </tr>\n",
       "    <tr>\n",
       "      <th>2</th>\n",
       "      <td>3</td>\n",
       "      <td>1</td>\n",
       "      <td>3</td>\n",
       "      <td>Heikkinen, Miss. Laina</td>\n",
       "      <td>female</td>\n",
       "      <td>26.0</td>\n",
       "      <td>0</td>\n",
       "      <td>0</td>\n",
       "      <td>STON/O2. 3101282</td>\n",
       "      <td>7.9250</td>\n",
       "      <td>NaN</td>\n",
       "      <td>S</td>\n",
       "    </tr>\n",
       "    <tr>\n",
       "      <th>3</th>\n",
       "      <td>4</td>\n",
       "      <td>1</td>\n",
       "      <td>1</td>\n",
       "      <td>Futrelle, Mrs. Jacques Heath (Lily May Peel)</td>\n",
       "      <td>female</td>\n",
       "      <td>35.0</td>\n",
       "      <td>1</td>\n",
       "      <td>0</td>\n",
       "      <td>113803</td>\n",
       "      <td>53.1000</td>\n",
       "      <td>C123</td>\n",
       "      <td>S</td>\n",
       "    </tr>\n",
       "    <tr>\n",
       "      <th>4</th>\n",
       "      <td>5</td>\n",
       "      <td>0</td>\n",
       "      <td>3</td>\n",
       "      <td>Allen, Mr. William Henry</td>\n",
       "      <td>male</td>\n",
       "      <td>35.0</td>\n",
       "      <td>0</td>\n",
       "      <td>0</td>\n",
       "      <td>373450</td>\n",
       "      <td>8.0500</td>\n",
       "      <td>NaN</td>\n",
       "      <td>S</td>\n",
       "    </tr>\n",
       "  </tbody>\n",
       "</table>\n",
       "</div>"
      ],
      "text/plain": [
       "   PassengerId  Survived  Pclass  \\\n",
       "0            1         0       3   \n",
       "1            2         1       1   \n",
       "2            3         1       3   \n",
       "3            4         1       1   \n",
       "4            5         0       3   \n",
       "\n",
       "                                                Name     Sex   Age  SibSp  \\\n",
       "0                            Braund, Mr. Owen Harris    male  22.0      1   \n",
       "1  Cumings, Mrs. John Bradley (Florence Briggs Th...  female  38.0      1   \n",
       "2                             Heikkinen, Miss. Laina  female  26.0      0   \n",
       "3       Futrelle, Mrs. Jacques Heath (Lily May Peel)  female  35.0      1   \n",
       "4                           Allen, Mr. William Henry    male  35.0      0   \n",
       "\n",
       "   Parch            Ticket     Fare Cabin Embarked  \n",
       "0      0         A/5 21171   7.2500   NaN        S  \n",
       "1      0          PC 17599  71.2833   C85        C  \n",
       "2      0  STON/O2. 3101282   7.9250   NaN        S  \n",
       "3      0            113803  53.1000  C123        S  \n",
       "4      0            373450   8.0500   NaN        S  "
      ]
     },
     "execution_count": 6,
     "metadata": {},
     "output_type": "execute_result"
    }
   ],
   "source": [
    "# first one that we usually look at is .head(), .tail(), or .sample()\n",
    "data.head()\n",
    "#data.tail()\n",
    "#data.sample()"
   ]
  },
  {
   "cell_type": "markdown",
   "id": "a677d6d4",
   "metadata": {},
   "source": [
    "-> We need to use `inplace=True` to overwrite the DF"
   ]
  },
  {
   "cell_type": "code",
   "execution_count": 7,
   "id": "5e43754a",
   "metadata": {},
   "outputs": [
    {
     "data": {
      "text/html": [
       "<div>\n",
       "<style scoped>\n",
       "    .dataframe tbody tr th:only-of-type {\n",
       "        vertical-align: middle;\n",
       "    }\n",
       "\n",
       "    .dataframe tbody tr th {\n",
       "        vertical-align: top;\n",
       "    }\n",
       "\n",
       "    .dataframe thead th {\n",
       "        text-align: right;\n",
       "    }\n",
       "</style>\n",
       "<table border=\"1\" class=\"dataframe\">\n",
       "  <thead>\n",
       "    <tr style=\"text-align: right;\">\n",
       "      <th></th>\n",
       "      <th>Survived</th>\n",
       "      <th>Pclass</th>\n",
       "      <th>Name</th>\n",
       "      <th>Sex</th>\n",
       "      <th>Age</th>\n",
       "      <th>SibSp</th>\n",
       "      <th>Parch</th>\n",
       "      <th>Ticket</th>\n",
       "      <th>Fare</th>\n",
       "      <th>Cabin</th>\n",
       "      <th>Embarked</th>\n",
       "    </tr>\n",
       "    <tr>\n",
       "      <th>PassengerId</th>\n",
       "      <th></th>\n",
       "      <th></th>\n",
       "      <th></th>\n",
       "      <th></th>\n",
       "      <th></th>\n",
       "      <th></th>\n",
       "      <th></th>\n",
       "      <th></th>\n",
       "      <th></th>\n",
       "      <th></th>\n",
       "      <th></th>\n",
       "    </tr>\n",
       "  </thead>\n",
       "  <tbody>\n",
       "    <tr>\n",
       "      <th>1</th>\n",
       "      <td>0</td>\n",
       "      <td>3</td>\n",
       "      <td>Braund, Mr. Owen Harris</td>\n",
       "      <td>male</td>\n",
       "      <td>22.0</td>\n",
       "      <td>1</td>\n",
       "      <td>0</td>\n",
       "      <td>A/5 21171</td>\n",
       "      <td>7.25</td>\n",
       "      <td>NaN</td>\n",
       "      <td>S</td>\n",
       "    </tr>\n",
       "  </tbody>\n",
       "</table>\n",
       "</div>"
      ],
      "text/plain": [
       "             Survived  Pclass                     Name   Sex   Age  SibSp  \\\n",
       "PassengerId                                                                 \n",
       "1                   0       3  Braund, Mr. Owen Harris  male  22.0      1   \n",
       "\n",
       "             Parch     Ticket  Fare Cabin Embarked  \n",
       "PassengerId                                         \n",
       "1                0  A/5 21171  7.25   NaN        S  "
      ]
     },
     "execution_count": 7,
     "metadata": {},
     "output_type": "execute_result"
    }
   ],
   "source": [
    "# Set index\n",
    "#data = data.set_index('PassengerId')\n",
    "data.set_index('PassengerId', inplace = True)\n",
    "data.head(1)"
   ]
  },
  {
   "cell_type": "markdown",
   "id": "9d7dc67e",
   "metadata": {},
   "source": [
    "-> `.shape` helps us keep track of the volume of data dropped during cleaning "
   ]
  },
  {
   "cell_type": "markdown",
   "id": "72013753",
   "metadata": {},
   "source": [
    "-> Deleting 800 rows in this DF would be bad (~90% of the data), in a DF with 100,000 rows 800 would only be 0.8% of the data."
   ]
  },
  {
   "cell_type": "code",
   "execution_count": 8,
   "id": "34fe5485",
   "metadata": {},
   "outputs": [
    {
     "data": {
      "text/plain": [
       "(891, 11)"
      ]
     },
     "execution_count": 8,
     "metadata": {},
     "output_type": "execute_result"
    }
   ],
   "source": [
    "# shape tells us how many columns and how many rows in the DF\n",
    "data.shape"
   ]
  },
  {
   "cell_type": "code",
   "execution_count": 9,
   "id": "fc94a75d",
   "metadata": {},
   "outputs": [
    {
     "data": {
      "text/plain": [
       "Index(['Survived', 'Pclass', 'Name', 'Sex', 'Age', 'SibSp', 'Parch', 'Ticket',\n",
       "       'Fare', 'Cabin', 'Embarked'],\n",
       "      dtype='object')"
      ]
     },
     "execution_count": 9,
     "metadata": {},
     "output_type": "execute_result"
    }
   ],
   "source": [
    "# use if we want to know just the names of the columns (features)\n",
    "#data.columns\n",
    "data.keys()"
   ]
  },
  {
   "cell_type": "markdown",
   "id": "3d88dfd6",
   "metadata": {},
   "source": [
    "-> Provides the number of rows, number of columns, names of each column alongside their data type, \n",
    "how many of each dtype we have, gives us info about any null values (important for data cleaning)"
   ]
  },
  {
   "cell_type": "code",
   "execution_count": 10,
   "id": "27eb9003",
   "metadata": {
    "scrolled": true
   },
   "outputs": [
    {
     "name": "stdout",
     "output_type": "stream",
     "text": [
      "<class 'pandas.core.frame.DataFrame'>\n",
      "Int64Index: 891 entries, 1 to 891\n",
      "Data columns (total 11 columns):\n",
      " #   Column    Non-Null Count  Dtype  \n",
      "---  ------    --------------  -----  \n",
      " 0   Survived  891 non-null    int64  \n",
      " 1   Pclass    891 non-null    int64  \n",
      " 2   Name      891 non-null    object \n",
      " 3   Sex       891 non-null    object \n",
      " 4   Age       714 non-null    float64\n",
      " 5   SibSp     891 non-null    int64  \n",
      " 6   Parch     891 non-null    int64  \n",
      " 7   Ticket    891 non-null    object \n",
      " 8   Fare      891 non-null    float64\n",
      " 9   Cabin     204 non-null    object \n",
      " 10  Embarked  889 non-null    object \n",
      "dtypes: float64(2), int64(4), object(5)\n",
      "memory usage: 83.5+ KB\n"
     ]
    }
   ],
   "source": [
    "# .info() method\n",
    "data.info()"
   ]
  },
  {
   "cell_type": "markdown",
   "id": "ed0624c4",
   "metadata": {},
   "source": [
    "-> Breaks down info into columns where dtype = integer or float, NOT object,\n",
    "gives number of rows, mean, std deviation, min, max, IQR"
   ]
  },
  {
   "cell_type": "code",
   "execution_count": 11,
   "id": "1b8a678f",
   "metadata": {},
   "outputs": [
    {
     "data": {
      "text/html": [
       "<div>\n",
       "<style scoped>\n",
       "    .dataframe tbody tr th:only-of-type {\n",
       "        vertical-align: middle;\n",
       "    }\n",
       "\n",
       "    .dataframe tbody tr th {\n",
       "        vertical-align: top;\n",
       "    }\n",
       "\n",
       "    .dataframe thead th {\n",
       "        text-align: right;\n",
       "    }\n",
       "</style>\n",
       "<table border=\"1\" class=\"dataframe\">\n",
       "  <thead>\n",
       "    <tr style=\"text-align: right;\">\n",
       "      <th></th>\n",
       "      <th>Survived</th>\n",
       "      <th>Pclass</th>\n",
       "      <th>Age</th>\n",
       "      <th>SibSp</th>\n",
       "      <th>Parch</th>\n",
       "      <th>Fare</th>\n",
       "    </tr>\n",
       "  </thead>\n",
       "  <tbody>\n",
       "    <tr>\n",
       "      <th>count</th>\n",
       "      <td>891.00</td>\n",
       "      <td>891.00</td>\n",
       "      <td>714.00</td>\n",
       "      <td>891.00</td>\n",
       "      <td>891.00</td>\n",
       "      <td>891.00</td>\n",
       "    </tr>\n",
       "    <tr>\n",
       "      <th>mean</th>\n",
       "      <td>0.38</td>\n",
       "      <td>2.31</td>\n",
       "      <td>29.70</td>\n",
       "      <td>0.52</td>\n",
       "      <td>0.38</td>\n",
       "      <td>32.20</td>\n",
       "    </tr>\n",
       "    <tr>\n",
       "      <th>std</th>\n",
       "      <td>0.49</td>\n",
       "      <td>0.84</td>\n",
       "      <td>14.53</td>\n",
       "      <td>1.10</td>\n",
       "      <td>0.81</td>\n",
       "      <td>49.69</td>\n",
       "    </tr>\n",
       "    <tr>\n",
       "      <th>min</th>\n",
       "      <td>0.00</td>\n",
       "      <td>1.00</td>\n",
       "      <td>0.42</td>\n",
       "      <td>0.00</td>\n",
       "      <td>0.00</td>\n",
       "      <td>0.00</td>\n",
       "    </tr>\n",
       "    <tr>\n",
       "      <th>25%</th>\n",
       "      <td>0.00</td>\n",
       "      <td>2.00</td>\n",
       "      <td>20.12</td>\n",
       "      <td>0.00</td>\n",
       "      <td>0.00</td>\n",
       "      <td>7.91</td>\n",
       "    </tr>\n",
       "    <tr>\n",
       "      <th>50%</th>\n",
       "      <td>0.00</td>\n",
       "      <td>3.00</td>\n",
       "      <td>28.00</td>\n",
       "      <td>0.00</td>\n",
       "      <td>0.00</td>\n",
       "      <td>14.45</td>\n",
       "    </tr>\n",
       "    <tr>\n",
       "      <th>75%</th>\n",
       "      <td>1.00</td>\n",
       "      <td>3.00</td>\n",
       "      <td>38.00</td>\n",
       "      <td>1.00</td>\n",
       "      <td>0.00</td>\n",
       "      <td>31.00</td>\n",
       "    </tr>\n",
       "    <tr>\n",
       "      <th>max</th>\n",
       "      <td>1.00</td>\n",
       "      <td>3.00</td>\n",
       "      <td>80.00</td>\n",
       "      <td>8.00</td>\n",
       "      <td>6.00</td>\n",
       "      <td>512.33</td>\n",
       "    </tr>\n",
       "  </tbody>\n",
       "</table>\n",
       "</div>"
      ],
      "text/plain": [
       "       Survived  Pclass     Age   SibSp   Parch    Fare\n",
       "count    891.00  891.00  714.00  891.00  891.00  891.00\n",
       "mean       0.38    2.31   29.70    0.52    0.38   32.20\n",
       "std        0.49    0.84   14.53    1.10    0.81   49.69\n",
       "min        0.00    1.00    0.42    0.00    0.00    0.00\n",
       "25%        0.00    2.00   20.12    0.00    0.00    7.91\n",
       "50%        0.00    3.00   28.00    0.00    0.00   14.45\n",
       "75%        1.00    3.00   38.00    1.00    0.00   31.00\n",
       "max        1.00    3.00   80.00    8.00    6.00  512.33"
      ]
     },
     "execution_count": 11,
     "metadata": {},
     "output_type": "execute_result"
    }
   ],
   "source": [
    "# describe whole DF or specific columns - data distributions\n",
    "data.describe().round(2)"
   ]
  },
  {
   "cell_type": "code",
   "execution_count": 12,
   "id": "3ebc4ecf",
   "metadata": {},
   "outputs": [
    {
     "data": {
      "text/plain": [
       "count    714.00\n",
       "mean      29.70\n",
       "std       14.53\n",
       "min        0.42\n",
       "25%       20.12\n",
       "50%       28.00\n",
       "75%       38.00\n",
       "max       80.00\n",
       "Name: Age, dtype: float64"
      ]
     },
     "execution_count": 12,
     "metadata": {},
     "output_type": "execute_result"
    }
   ],
   "source": [
    "data['Age'].describe().round(2)"
   ]
  },
  {
   "cell_type": "markdown",
   "id": "63516d3c",
   "metadata": {},
   "source": [
    "-> We need to decide do we want to drop rows, drop columns, or impute data when we have null values?"
   ]
  },
  {
   "cell_type": "code",
   "execution_count": 13,
   "id": "b2fa290f",
   "metadata": {},
   "outputs": [
    {
     "data": {
      "text/plain": [
       "Survived      0\n",
       "Pclass        0\n",
       "Name          0\n",
       "Sex           0\n",
       "Age         177\n",
       "SibSp         0\n",
       "Parch         0\n",
       "Ticket        0\n",
       "Fare          0\n",
       "Cabin       687\n",
       "Embarked      2\n",
       "dtype: int64"
      ]
     },
     "execution_count": 13,
     "metadata": {},
     "output_type": "execute_result"
    }
   ],
   "source": [
    "# Null values \n",
    "#data.isna()\n",
    "#data.notna().sum()\n",
    "data.isna().sum()"
   ]
  },
  {
   "cell_type": "markdown",
   "id": "cf58f280",
   "metadata": {},
   "source": [
    "## 4. First Exploration of the Data\n",
    "This somewhat comes under inspection but it goes a little deeper - you're diving into the data and starting to form those research questions and to see where the data needs cleaning. It's also where things diverge - it's your own take on the data from here..."
   ]
  },
  {
   "cell_type": "markdown",
   "id": "4794b7b2",
   "metadata": {},
   "source": [
    "**Frame a question:** What is it you want to know about the dataset? What questions do you want to be answered? At this point, think laterally / creatively about the data..."
   ]
  },
  {
   "cell_type": "markdown",
   "id": "f36706ee",
   "metadata": {},
   "source": [
    "We can run searches or queries on the data to find out more or subset and group data..."
   ]
  },
  {
   "cell_type": "code",
   "execution_count": 14,
   "id": "09f34d69",
   "metadata": {},
   "outputs": [
    {
     "data": {
      "text/html": [
       "<div>\n",
       "<style scoped>\n",
       "    .dataframe tbody tr th:only-of-type {\n",
       "        vertical-align: middle;\n",
       "    }\n",
       "\n",
       "    .dataframe tbody tr th {\n",
       "        vertical-align: top;\n",
       "    }\n",
       "\n",
       "    .dataframe thead th {\n",
       "        text-align: right;\n",
       "    }\n",
       "</style>\n",
       "<table border=\"1\" class=\"dataframe\">\n",
       "  <thead>\n",
       "    <tr style=\"text-align: right;\">\n",
       "      <th></th>\n",
       "      <th>Survived</th>\n",
       "      <th>Pclass</th>\n",
       "      <th>Name</th>\n",
       "      <th>Sex</th>\n",
       "      <th>Age</th>\n",
       "      <th>SibSp</th>\n",
       "      <th>Parch</th>\n",
       "      <th>Ticket</th>\n",
       "      <th>Fare</th>\n",
       "      <th>Cabin</th>\n",
       "      <th>Embarked</th>\n",
       "    </tr>\n",
       "    <tr>\n",
       "      <th>PassengerId</th>\n",
       "      <th></th>\n",
       "      <th></th>\n",
       "      <th></th>\n",
       "      <th></th>\n",
       "      <th></th>\n",
       "      <th></th>\n",
       "      <th></th>\n",
       "      <th></th>\n",
       "      <th></th>\n",
       "      <th></th>\n",
       "      <th></th>\n",
       "    </tr>\n",
       "  </thead>\n",
       "  <tbody>\n",
       "    <tr>\n",
       "      <th>8</th>\n",
       "      <td>0</td>\n",
       "      <td>3</td>\n",
       "      <td>Palsson, Master. Gosta Leonard</td>\n",
       "      <td>male</td>\n",
       "      <td>2.00</td>\n",
       "      <td>3</td>\n",
       "      <td>1</td>\n",
       "      <td>349909</td>\n",
       "      <td>21.0750</td>\n",
       "      <td>NaN</td>\n",
       "      <td>S</td>\n",
       "    </tr>\n",
       "    <tr>\n",
       "      <th>10</th>\n",
       "      <td>1</td>\n",
       "      <td>2</td>\n",
       "      <td>Nasser, Mrs. Nicholas (Adele Achem)</td>\n",
       "      <td>female</td>\n",
       "      <td>14.00</td>\n",
       "      <td>1</td>\n",
       "      <td>0</td>\n",
       "      <td>237736</td>\n",
       "      <td>30.0708</td>\n",
       "      <td>NaN</td>\n",
       "      <td>C</td>\n",
       "    </tr>\n",
       "    <tr>\n",
       "      <th>11</th>\n",
       "      <td>1</td>\n",
       "      <td>3</td>\n",
       "      <td>Sandstrom, Miss. Marguerite Rut</td>\n",
       "      <td>female</td>\n",
       "      <td>4.00</td>\n",
       "      <td>1</td>\n",
       "      <td>1</td>\n",
       "      <td>PP 9549</td>\n",
       "      <td>16.7000</td>\n",
       "      <td>G6</td>\n",
       "      <td>S</td>\n",
       "    </tr>\n",
       "    <tr>\n",
       "      <th>15</th>\n",
       "      <td>0</td>\n",
       "      <td>3</td>\n",
       "      <td>Vestrom, Miss. Hulda Amanda Adolfina</td>\n",
       "      <td>female</td>\n",
       "      <td>14.00</td>\n",
       "      <td>0</td>\n",
       "      <td>0</td>\n",
       "      <td>350406</td>\n",
       "      <td>7.8542</td>\n",
       "      <td>NaN</td>\n",
       "      <td>S</td>\n",
       "    </tr>\n",
       "    <tr>\n",
       "      <th>17</th>\n",
       "      <td>0</td>\n",
       "      <td>3</td>\n",
       "      <td>Rice, Master. Eugene</td>\n",
       "      <td>male</td>\n",
       "      <td>2.00</td>\n",
       "      <td>4</td>\n",
       "      <td>1</td>\n",
       "      <td>382652</td>\n",
       "      <td>29.1250</td>\n",
       "      <td>NaN</td>\n",
       "      <td>Q</td>\n",
       "    </tr>\n",
       "    <tr>\n",
       "      <th>...</th>\n",
       "      <td>...</td>\n",
       "      <td>...</td>\n",
       "      <td>...</td>\n",
       "      <td>...</td>\n",
       "      <td>...</td>\n",
       "      <td>...</td>\n",
       "      <td>...</td>\n",
       "      <td>...</td>\n",
       "      <td>...</td>\n",
       "      <td>...</td>\n",
       "      <td>...</td>\n",
       "    </tr>\n",
       "    <tr>\n",
       "      <th>828</th>\n",
       "      <td>1</td>\n",
       "      <td>2</td>\n",
       "      <td>Mallet, Master. Andre</td>\n",
       "      <td>male</td>\n",
       "      <td>1.00</td>\n",
       "      <td>0</td>\n",
       "      <td>2</td>\n",
       "      <td>S.C./PARIS 2079</td>\n",
       "      <td>37.0042</td>\n",
       "      <td>NaN</td>\n",
       "      <td>C</td>\n",
       "    </tr>\n",
       "    <tr>\n",
       "      <th>832</th>\n",
       "      <td>1</td>\n",
       "      <td>2</td>\n",
       "      <td>Richards, Master. George Sibley</td>\n",
       "      <td>male</td>\n",
       "      <td>0.83</td>\n",
       "      <td>1</td>\n",
       "      <td>1</td>\n",
       "      <td>29106</td>\n",
       "      <td>18.7500</td>\n",
       "      <td>NaN</td>\n",
       "      <td>S</td>\n",
       "    </tr>\n",
       "    <tr>\n",
       "      <th>851</th>\n",
       "      <td>0</td>\n",
       "      <td>3</td>\n",
       "      <td>Andersson, Master. Sigvard Harald Elias</td>\n",
       "      <td>male</td>\n",
       "      <td>4.00</td>\n",
       "      <td>4</td>\n",
       "      <td>2</td>\n",
       "      <td>347082</td>\n",
       "      <td>31.2750</td>\n",
       "      <td>NaN</td>\n",
       "      <td>S</td>\n",
       "    </tr>\n",
       "    <tr>\n",
       "      <th>853</th>\n",
       "      <td>0</td>\n",
       "      <td>3</td>\n",
       "      <td>Boulos, Miss. Nourelain</td>\n",
       "      <td>female</td>\n",
       "      <td>9.00</td>\n",
       "      <td>1</td>\n",
       "      <td>1</td>\n",
       "      <td>2678</td>\n",
       "      <td>15.2458</td>\n",
       "      <td>NaN</td>\n",
       "      <td>C</td>\n",
       "    </tr>\n",
       "    <tr>\n",
       "      <th>870</th>\n",
       "      <td>1</td>\n",
       "      <td>3</td>\n",
       "      <td>Johnson, Master. Harold Theodor</td>\n",
       "      <td>male</td>\n",
       "      <td>4.00</td>\n",
       "      <td>1</td>\n",
       "      <td>1</td>\n",
       "      <td>347742</td>\n",
       "      <td>11.1333</td>\n",
       "      <td>NaN</td>\n",
       "      <td>S</td>\n",
       "    </tr>\n",
       "  </tbody>\n",
       "</table>\n",
       "<p>78 rows × 11 columns</p>\n",
       "</div>"
      ],
      "text/plain": [
       "             Survived  Pclass                                     Name  \\\n",
       "PassengerId                                                              \n",
       "8                   0       3           Palsson, Master. Gosta Leonard   \n",
       "10                  1       2      Nasser, Mrs. Nicholas (Adele Achem)   \n",
       "11                  1       3          Sandstrom, Miss. Marguerite Rut   \n",
       "15                  0       3     Vestrom, Miss. Hulda Amanda Adolfina   \n",
       "17                  0       3                     Rice, Master. Eugene   \n",
       "...               ...     ...                                      ...   \n",
       "828                 1       2                    Mallet, Master. Andre   \n",
       "832                 1       2          Richards, Master. George Sibley   \n",
       "851                 0       3  Andersson, Master. Sigvard Harald Elias   \n",
       "853                 0       3                  Boulos, Miss. Nourelain   \n",
       "870                 1       3          Johnson, Master. Harold Theodor   \n",
       "\n",
       "                Sex    Age  SibSp  Parch           Ticket     Fare Cabin  \\\n",
       "PassengerId                                                                \n",
       "8              male   2.00      3      1           349909  21.0750   NaN   \n",
       "10           female  14.00      1      0           237736  30.0708   NaN   \n",
       "11           female   4.00      1      1          PP 9549  16.7000    G6   \n",
       "15           female  14.00      0      0           350406   7.8542   NaN   \n",
       "17             male   2.00      4      1           382652  29.1250   NaN   \n",
       "...             ...    ...    ...    ...              ...      ...   ...   \n",
       "828            male   1.00      0      2  S.C./PARIS 2079  37.0042   NaN   \n",
       "832            male   0.83      1      1            29106  18.7500   NaN   \n",
       "851            male   4.00      4      2           347082  31.2750   NaN   \n",
       "853          female   9.00      1      1             2678  15.2458   NaN   \n",
       "870            male   4.00      1      1           347742  11.1333   NaN   \n",
       "\n",
       "            Embarked  \n",
       "PassengerId           \n",
       "8                  S  \n",
       "10                 C  \n",
       "11                 S  \n",
       "15                 S  \n",
       "17                 Q  \n",
       "...              ...  \n",
       "828                C  \n",
       "832                S  \n",
       "851                S  \n",
       "853                C  \n",
       "870                S  \n",
       "\n",
       "[78 rows x 11 columns]"
      ]
     },
     "execution_count": 14,
     "metadata": {},
     "output_type": "execute_result"
    }
   ],
   "source": [
    "# use .query() if searching on an integer* or float\n",
    "data.query('Age<15') # returns the rows and number of rows in selected feature where conditions are met"
   ]
  },
  {
   "cell_type": "code",
   "execution_count": 15,
   "id": "bed13cf7",
   "metadata": {},
   "outputs": [
    {
     "data": {
      "text/html": [
       "<div>\n",
       "<style scoped>\n",
       "    .dataframe tbody tr th:only-of-type {\n",
       "        vertical-align: middle;\n",
       "    }\n",
       "\n",
       "    .dataframe tbody tr th {\n",
       "        vertical-align: top;\n",
       "    }\n",
       "\n",
       "    .dataframe thead th {\n",
       "        text-align: right;\n",
       "    }\n",
       "</style>\n",
       "<table border=\"1\" class=\"dataframe\">\n",
       "  <thead>\n",
       "    <tr style=\"text-align: right;\">\n",
       "      <th></th>\n",
       "      <th>Survived</th>\n",
       "      <th>Pclass</th>\n",
       "      <th>Name</th>\n",
       "      <th>Sex</th>\n",
       "      <th>Age</th>\n",
       "      <th>SibSp</th>\n",
       "      <th>Parch</th>\n",
       "      <th>Ticket</th>\n",
       "      <th>Fare</th>\n",
       "      <th>Cabin</th>\n",
       "      <th>Embarked</th>\n",
       "    </tr>\n",
       "    <tr>\n",
       "      <th>PassengerId</th>\n",
       "      <th></th>\n",
       "      <th></th>\n",
       "      <th></th>\n",
       "      <th></th>\n",
       "      <th></th>\n",
       "      <th></th>\n",
       "      <th></th>\n",
       "      <th></th>\n",
       "      <th></th>\n",
       "      <th></th>\n",
       "      <th></th>\n",
       "    </tr>\n",
       "  </thead>\n",
       "  <tbody>\n",
       "    <tr>\n",
       "      <th>1</th>\n",
       "      <td>0</td>\n",
       "      <td>3</td>\n",
       "      <td>Braund, Mr. Owen Harris</td>\n",
       "      <td>male</td>\n",
       "      <td>22.0</td>\n",
       "      <td>1</td>\n",
       "      <td>0</td>\n",
       "      <td>A/5 21171</td>\n",
       "      <td>7.2500</td>\n",
       "      <td>NaN</td>\n",
       "      <td>S</td>\n",
       "    </tr>\n",
       "    <tr>\n",
       "      <th>5</th>\n",
       "      <td>0</td>\n",
       "      <td>3</td>\n",
       "      <td>Allen, Mr. William Henry</td>\n",
       "      <td>male</td>\n",
       "      <td>35.0</td>\n",
       "      <td>0</td>\n",
       "      <td>0</td>\n",
       "      <td>373450</td>\n",
       "      <td>8.0500</td>\n",
       "      <td>NaN</td>\n",
       "      <td>S</td>\n",
       "    </tr>\n",
       "    <tr>\n",
       "      <th>6</th>\n",
       "      <td>0</td>\n",
       "      <td>3</td>\n",
       "      <td>Moran, Mr. James</td>\n",
       "      <td>male</td>\n",
       "      <td>NaN</td>\n",
       "      <td>0</td>\n",
       "      <td>0</td>\n",
       "      <td>330877</td>\n",
       "      <td>8.4583</td>\n",
       "      <td>NaN</td>\n",
       "      <td>Q</td>\n",
       "    </tr>\n",
       "    <tr>\n",
       "      <th>7</th>\n",
       "      <td>0</td>\n",
       "      <td>1</td>\n",
       "      <td>McCarthy, Mr. Timothy J</td>\n",
       "      <td>male</td>\n",
       "      <td>54.0</td>\n",
       "      <td>0</td>\n",
       "      <td>0</td>\n",
       "      <td>17463</td>\n",
       "      <td>51.8625</td>\n",
       "      <td>E46</td>\n",
       "      <td>S</td>\n",
       "    </tr>\n",
       "    <tr>\n",
       "      <th>8</th>\n",
       "      <td>0</td>\n",
       "      <td>3</td>\n",
       "      <td>Palsson, Master. Gosta Leonard</td>\n",
       "      <td>male</td>\n",
       "      <td>2.0</td>\n",
       "      <td>3</td>\n",
       "      <td>1</td>\n",
       "      <td>349909</td>\n",
       "      <td>21.0750</td>\n",
       "      <td>NaN</td>\n",
       "      <td>S</td>\n",
       "    </tr>\n",
       "    <tr>\n",
       "      <th>...</th>\n",
       "      <td>...</td>\n",
       "      <td>...</td>\n",
       "      <td>...</td>\n",
       "      <td>...</td>\n",
       "      <td>...</td>\n",
       "      <td>...</td>\n",
       "      <td>...</td>\n",
       "      <td>...</td>\n",
       "      <td>...</td>\n",
       "      <td>...</td>\n",
       "      <td>...</td>\n",
       "    </tr>\n",
       "    <tr>\n",
       "      <th>884</th>\n",
       "      <td>0</td>\n",
       "      <td>2</td>\n",
       "      <td>Banfield, Mr. Frederick James</td>\n",
       "      <td>male</td>\n",
       "      <td>28.0</td>\n",
       "      <td>0</td>\n",
       "      <td>0</td>\n",
       "      <td>C.A./SOTON 34068</td>\n",
       "      <td>10.5000</td>\n",
       "      <td>NaN</td>\n",
       "      <td>S</td>\n",
       "    </tr>\n",
       "    <tr>\n",
       "      <th>885</th>\n",
       "      <td>0</td>\n",
       "      <td>3</td>\n",
       "      <td>Sutehall, Mr. Henry Jr</td>\n",
       "      <td>male</td>\n",
       "      <td>25.0</td>\n",
       "      <td>0</td>\n",
       "      <td>0</td>\n",
       "      <td>SOTON/OQ 392076</td>\n",
       "      <td>7.0500</td>\n",
       "      <td>NaN</td>\n",
       "      <td>S</td>\n",
       "    </tr>\n",
       "    <tr>\n",
       "      <th>887</th>\n",
       "      <td>0</td>\n",
       "      <td>2</td>\n",
       "      <td>Montvila, Rev. Juozas</td>\n",
       "      <td>male</td>\n",
       "      <td>27.0</td>\n",
       "      <td>0</td>\n",
       "      <td>0</td>\n",
       "      <td>211536</td>\n",
       "      <td>13.0000</td>\n",
       "      <td>NaN</td>\n",
       "      <td>S</td>\n",
       "    </tr>\n",
       "    <tr>\n",
       "      <th>890</th>\n",
       "      <td>1</td>\n",
       "      <td>1</td>\n",
       "      <td>Behr, Mr. Karl Howell</td>\n",
       "      <td>male</td>\n",
       "      <td>26.0</td>\n",
       "      <td>0</td>\n",
       "      <td>0</td>\n",
       "      <td>111369</td>\n",
       "      <td>30.0000</td>\n",
       "      <td>C148</td>\n",
       "      <td>C</td>\n",
       "    </tr>\n",
       "    <tr>\n",
       "      <th>891</th>\n",
       "      <td>0</td>\n",
       "      <td>3</td>\n",
       "      <td>Dooley, Mr. Patrick</td>\n",
       "      <td>male</td>\n",
       "      <td>32.0</td>\n",
       "      <td>0</td>\n",
       "      <td>0</td>\n",
       "      <td>370376</td>\n",
       "      <td>7.7500</td>\n",
       "      <td>NaN</td>\n",
       "      <td>Q</td>\n",
       "    </tr>\n",
       "  </tbody>\n",
       "</table>\n",
       "<p>577 rows × 11 columns</p>\n",
       "</div>"
      ],
      "text/plain": [
       "             Survived  Pclass                            Name   Sex   Age  \\\n",
       "PassengerId                                                                 \n",
       "1                   0       3         Braund, Mr. Owen Harris  male  22.0   \n",
       "5                   0       3        Allen, Mr. William Henry  male  35.0   \n",
       "6                   0       3                Moran, Mr. James  male   NaN   \n",
       "7                   0       1         McCarthy, Mr. Timothy J  male  54.0   \n",
       "8                   0       3  Palsson, Master. Gosta Leonard  male   2.0   \n",
       "...               ...     ...                             ...   ...   ...   \n",
       "884                 0       2   Banfield, Mr. Frederick James  male  28.0   \n",
       "885                 0       3          Sutehall, Mr. Henry Jr  male  25.0   \n",
       "887                 0       2           Montvila, Rev. Juozas  male  27.0   \n",
       "890                 1       1           Behr, Mr. Karl Howell  male  26.0   \n",
       "891                 0       3             Dooley, Mr. Patrick  male  32.0   \n",
       "\n",
       "             SibSp  Parch            Ticket     Fare Cabin Embarked  \n",
       "PassengerId                                                          \n",
       "1                1      0         A/5 21171   7.2500   NaN        S  \n",
       "5                0      0            373450   8.0500   NaN        S  \n",
       "6                0      0            330877   8.4583   NaN        Q  \n",
       "7                0      0             17463  51.8625   E46        S  \n",
       "8                3      1            349909  21.0750   NaN        S  \n",
       "...            ...    ...               ...      ...   ...      ...  \n",
       "884              0      0  C.A./SOTON 34068  10.5000   NaN        S  \n",
       "885              0      0   SOTON/OQ 392076   7.0500   NaN        S  \n",
       "887              0      0            211536  13.0000   NaN        S  \n",
       "890              0      0            111369  30.0000  C148        C  \n",
       "891              0      0            370376   7.7500   NaN        Q  \n",
       "\n",
       "[577 rows x 11 columns]"
      ]
     },
     "execution_count": 15,
     "metadata": {},
     "output_type": "execute_result"
    }
   ],
   "source": [
    "# use .loc[] for searching on any datatype \n",
    "data.loc[data['Sex']=='male']"
   ]
  },
  {
   "cell_type": "code",
   "execution_count": 16,
   "id": "f40d7fdd",
   "metadata": {},
   "outputs": [
    {
     "data": {
      "image/png": "[encoded data removed]",
      "text/plain": [
       "<Figure size 360x360 with 1 Axes>"
      ]
     },
     "metadata": {
      "needs_background": "light"
     },
     "output_type": "display_data"
    },
    {
     "data": {
      "image/png": "[encoded data removed]",
      "text/plain": [
       "<Figure size 360x360 with 1 Axes>"
      ]
     },
     "metadata": {
      "needs_background": "light"
     },
     "output_type": "display_data"
    }
   ],
   "source": [
    "sns.catplot(data=data, x='Pclass', y='Fare')\n",
    "sns.catplot(data=data, x='Pclass', y='Age');"
   ]
  },
  {
   "cell_type": "markdown",
   "id": "f897ad9e",
   "metadata": {},
   "source": [
    "### `Cabin`\n",
    "\n",
    "Question: Is there a correlation between `Cabin` and survival?"
   ]
  },
  {
   "cell_type": "code",
   "execution_count": 17,
   "id": "20ed58d7",
   "metadata": {
    "scrolled": false
   },
   "outputs": [
    {
     "data": {
      "text/plain": [
       "B96 B98        4\n",
       "G6             4\n",
       "C23 C25 C27    4\n",
       "C22 C26        3\n",
       "F33            3\n",
       "              ..\n",
       "E34            1\n",
       "C7             1\n",
       "C54            1\n",
       "E36            1\n",
       "C148           1\n",
       "Name: Cabin, Length: 147, dtype: int64"
      ]
     },
     "execution_count": 17,
     "metadata": {},
     "output_type": "execute_result"
    }
   ],
   "source": [
    "data['Cabin'].value_counts()"
   ]
  },
  {
   "cell_type": "code",
   "execution_count": 18,
   "id": "fc3cbd07",
   "metadata": {},
   "outputs": [
    {
     "data": {
      "text/html": [
       "<div>\n",
       "<style scoped>\n",
       "    .dataframe tbody tr th:only-of-type {\n",
       "        vertical-align: middle;\n",
       "    }\n",
       "\n",
       "    .dataframe tbody tr th {\n",
       "        vertical-align: top;\n",
       "    }\n",
       "\n",
       "    .dataframe thead th {\n",
       "        text-align: right;\n",
       "    }\n",
       "</style>\n",
       "<table border=\"1\" class=\"dataframe\">\n",
       "  <thead>\n",
       "    <tr style=\"text-align: right;\">\n",
       "      <th></th>\n",
       "      <th>Survived</th>\n",
       "      <th>Pclass</th>\n",
       "      <th>Name</th>\n",
       "      <th>Sex</th>\n",
       "      <th>Age</th>\n",
       "      <th>SibSp</th>\n",
       "      <th>Parch</th>\n",
       "      <th>Ticket</th>\n",
       "      <th>Fare</th>\n",
       "      <th>Cabin</th>\n",
       "      <th>Embarked</th>\n",
       "    </tr>\n",
       "    <tr>\n",
       "      <th>PassengerId</th>\n",
       "      <th></th>\n",
       "      <th></th>\n",
       "      <th></th>\n",
       "      <th></th>\n",
       "      <th></th>\n",
       "      <th></th>\n",
       "      <th></th>\n",
       "      <th></th>\n",
       "      <th></th>\n",
       "      <th></th>\n",
       "      <th></th>\n",
       "    </tr>\n",
       "  </thead>\n",
       "  <tbody>\n",
       "    <tr>\n",
       "      <th>28</th>\n",
       "      <td>0</td>\n",
       "      <td>1</td>\n",
       "      <td>Fortune, Mr. Charles Alexander</td>\n",
       "      <td>male</td>\n",
       "      <td>19.0</td>\n",
       "      <td>3</td>\n",
       "      <td>2</td>\n",
       "      <td>19950</td>\n",
       "      <td>263.0</td>\n",
       "      <td>C23 C25 C27</td>\n",
       "      <td>S</td>\n",
       "    </tr>\n",
       "    <tr>\n",
       "      <th>89</th>\n",
       "      <td>1</td>\n",
       "      <td>1</td>\n",
       "      <td>Fortune, Miss. Mabel Helen</td>\n",
       "      <td>female</td>\n",
       "      <td>23.0</td>\n",
       "      <td>3</td>\n",
       "      <td>2</td>\n",
       "      <td>19950</td>\n",
       "      <td>263.0</td>\n",
       "      <td>C23 C25 C27</td>\n",
       "      <td>S</td>\n",
       "    </tr>\n",
       "    <tr>\n",
       "      <th>342</th>\n",
       "      <td>1</td>\n",
       "      <td>1</td>\n",
       "      <td>Fortune, Miss. Alice Elizabeth</td>\n",
       "      <td>female</td>\n",
       "      <td>24.0</td>\n",
       "      <td>3</td>\n",
       "      <td>2</td>\n",
       "      <td>19950</td>\n",
       "      <td>263.0</td>\n",
       "      <td>C23 C25 C27</td>\n",
       "      <td>S</td>\n",
       "    </tr>\n",
       "    <tr>\n",
       "      <th>439</th>\n",
       "      <td>0</td>\n",
       "      <td>1</td>\n",
       "      <td>Fortune, Mr. Mark</td>\n",
       "      <td>male</td>\n",
       "      <td>64.0</td>\n",
       "      <td>1</td>\n",
       "      <td>4</td>\n",
       "      <td>19950</td>\n",
       "      <td>263.0</td>\n",
       "      <td>C23 C25 C27</td>\n",
       "      <td>S</td>\n",
       "    </tr>\n",
       "  </tbody>\n",
       "</table>\n",
       "</div>"
      ],
      "text/plain": [
       "             Survived  Pclass                            Name     Sex   Age  \\\n",
       "PassengerId                                                                   \n",
       "28                  0       1  Fortune, Mr. Charles Alexander    male  19.0   \n",
       "89                  1       1      Fortune, Miss. Mabel Helen  female  23.0   \n",
       "342                 1       1  Fortune, Miss. Alice Elizabeth  female  24.0   \n",
       "439                 0       1               Fortune, Mr. Mark    male  64.0   \n",
       "\n",
       "             SibSp  Parch Ticket   Fare        Cabin Embarked  \n",
       "PassengerId                                                    \n",
       "28               3      2  19950  263.0  C23 C25 C27        S  \n",
       "89               3      2  19950  263.0  C23 C25 C27        S  \n",
       "342              3      2  19950  263.0  C23 C25 C27        S  \n",
       "439              1      4  19950  263.0  C23 C25 C27        S  "
      ]
     },
     "execution_count": 18,
     "metadata": {},
     "output_type": "execute_result"
    }
   ],
   "source": [
    "data.loc[data['Cabin']=='C23 C25 C27']"
   ]
  },
  {
   "cell_type": "code",
   "execution_count": 19,
   "id": "aff308cd",
   "metadata": {},
   "outputs": [
    {
     "data": {
      "text/html": [
       "<div>\n",
       "<style scoped>\n",
       "    .dataframe tbody tr th:only-of-type {\n",
       "        vertical-align: middle;\n",
       "    }\n",
       "\n",
       "    .dataframe tbody tr th {\n",
       "        vertical-align: top;\n",
       "    }\n",
       "\n",
       "    .dataframe thead th {\n",
       "        text-align: right;\n",
       "    }\n",
       "</style>\n",
       "<table border=\"1\" class=\"dataframe\">\n",
       "  <thead>\n",
       "    <tr style=\"text-align: right;\">\n",
       "      <th></th>\n",
       "      <th>Survived</th>\n",
       "      <th>Pclass</th>\n",
       "      <th>Name</th>\n",
       "      <th>Sex</th>\n",
       "      <th>Age</th>\n",
       "      <th>SibSp</th>\n",
       "      <th>Parch</th>\n",
       "      <th>Ticket</th>\n",
       "      <th>Fare</th>\n",
       "      <th>Cabin</th>\n",
       "      <th>Embarked</th>\n",
       "    </tr>\n",
       "    <tr>\n",
       "      <th>PassengerId</th>\n",
       "      <th></th>\n",
       "      <th></th>\n",
       "      <th></th>\n",
       "      <th></th>\n",
       "      <th></th>\n",
       "      <th></th>\n",
       "      <th></th>\n",
       "      <th></th>\n",
       "      <th></th>\n",
       "      <th></th>\n",
       "      <th></th>\n",
       "    </tr>\n",
       "  </thead>\n",
       "  <tbody>\n",
       "    <tr>\n",
       "      <th>67</th>\n",
       "      <td>1</td>\n",
       "      <td>2</td>\n",
       "      <td>Nye, Mrs. (Elizabeth Ramell)</td>\n",
       "      <td>female</td>\n",
       "      <td>29.0</td>\n",
       "      <td>0</td>\n",
       "      <td>0</td>\n",
       "      <td>C.A. 29395</td>\n",
       "      <td>10.5</td>\n",
       "      <td>F33</td>\n",
       "      <td>S</td>\n",
       "    </tr>\n",
       "    <tr>\n",
       "      <th>346</th>\n",
       "      <td>1</td>\n",
       "      <td>2</td>\n",
       "      <td>Brown, Miss. Amelia \"Mildred\"</td>\n",
       "      <td>female</td>\n",
       "      <td>24.0</td>\n",
       "      <td>0</td>\n",
       "      <td>0</td>\n",
       "      <td>248733</td>\n",
       "      <td>13.0</td>\n",
       "      <td>F33</td>\n",
       "      <td>S</td>\n",
       "    </tr>\n",
       "    <tr>\n",
       "      <th>517</th>\n",
       "      <td>1</td>\n",
       "      <td>2</td>\n",
       "      <td>Lemore, Mrs. (Amelia Milley)</td>\n",
       "      <td>female</td>\n",
       "      <td>34.0</td>\n",
       "      <td>0</td>\n",
       "      <td>0</td>\n",
       "      <td>C.A. 34260</td>\n",
       "      <td>10.5</td>\n",
       "      <td>F33</td>\n",
       "      <td>S</td>\n",
       "    </tr>\n",
       "  </tbody>\n",
       "</table>\n",
       "</div>"
      ],
      "text/plain": [
       "             Survived  Pclass                           Name     Sex   Age  \\\n",
       "PassengerId                                                                  \n",
       "67                  1       2   Nye, Mrs. (Elizabeth Ramell)  female  29.0   \n",
       "346                 1       2  Brown, Miss. Amelia \"Mildred\"  female  24.0   \n",
       "517                 1       2   Lemore, Mrs. (Amelia Milley)  female  34.0   \n",
       "\n",
       "             SibSp  Parch      Ticket  Fare Cabin Embarked  \n",
       "PassengerId                                                 \n",
       "67               0      0  C.A. 29395  10.5   F33        S  \n",
       "346              0      0      248733  13.0   F33        S  \n",
       "517              0      0  C.A. 34260  10.5   F33        S  "
      ]
     },
     "execution_count": 19,
     "metadata": {},
     "output_type": "execute_result"
    }
   ],
   "source": [
    "data.loc[data['Cabin']=='F33']"
   ]
  },
  {
   "cell_type": "code",
   "execution_count": 20,
   "id": "c4b99c15",
   "metadata": {
    "scrolled": false
   },
   "outputs": [
    {
     "data": {
      "text/html": [
       "<div>\n",
       "<style scoped>\n",
       "    .dataframe tbody tr th:only-of-type {\n",
       "        vertical-align: middle;\n",
       "    }\n",
       "\n",
       "    .dataframe tbody tr th {\n",
       "        vertical-align: top;\n",
       "    }\n",
       "\n",
       "    .dataframe thead th {\n",
       "        text-align: right;\n",
       "    }\n",
       "</style>\n",
       "<table border=\"1\" class=\"dataframe\">\n",
       "  <thead>\n",
       "    <tr style=\"text-align: right;\">\n",
       "      <th></th>\n",
       "      <th>Survived</th>\n",
       "      <th>Pclass</th>\n",
       "      <th>Name</th>\n",
       "      <th>Sex</th>\n",
       "      <th>Age</th>\n",
       "      <th>SibSp</th>\n",
       "      <th>Parch</th>\n",
       "      <th>Ticket</th>\n",
       "      <th>Fare</th>\n",
       "      <th>Cabin</th>\n",
       "      <th>Embarked</th>\n",
       "    </tr>\n",
       "    <tr>\n",
       "      <th>PassengerId</th>\n",
       "      <th></th>\n",
       "      <th></th>\n",
       "      <th></th>\n",
       "      <th></th>\n",
       "      <th></th>\n",
       "      <th></th>\n",
       "      <th></th>\n",
       "      <th></th>\n",
       "      <th></th>\n",
       "      <th></th>\n",
       "      <th></th>\n",
       "    </tr>\n",
       "  </thead>\n",
       "  <tbody>\n",
       "    <tr>\n",
       "      <th>11</th>\n",
       "      <td>1</td>\n",
       "      <td>3</td>\n",
       "      <td>Sandstrom, Miss. Marguerite Rut</td>\n",
       "      <td>female</td>\n",
       "      <td>4.0</td>\n",
       "      <td>1</td>\n",
       "      <td>1</td>\n",
       "      <td>PP 9549</td>\n",
       "      <td>16.7000</td>\n",
       "      <td>G6</td>\n",
       "      <td>S</td>\n",
       "    </tr>\n",
       "    <tr>\n",
       "      <th>206</th>\n",
       "      <td>0</td>\n",
       "      <td>3</td>\n",
       "      <td>Strom, Miss. Telma Matilda</td>\n",
       "      <td>female</td>\n",
       "      <td>2.0</td>\n",
       "      <td>0</td>\n",
       "      <td>1</td>\n",
       "      <td>347054</td>\n",
       "      <td>10.4625</td>\n",
       "      <td>G6</td>\n",
       "      <td>S</td>\n",
       "    </tr>\n",
       "    <tr>\n",
       "      <th>252</th>\n",
       "      <td>0</td>\n",
       "      <td>3</td>\n",
       "      <td>Strom, Mrs. Wilhelm (Elna Matilda Persson)</td>\n",
       "      <td>female</td>\n",
       "      <td>29.0</td>\n",
       "      <td>1</td>\n",
       "      <td>1</td>\n",
       "      <td>347054</td>\n",
       "      <td>10.4625</td>\n",
       "      <td>G6</td>\n",
       "      <td>S</td>\n",
       "    </tr>\n",
       "    <tr>\n",
       "      <th>395</th>\n",
       "      <td>1</td>\n",
       "      <td>3</td>\n",
       "      <td>Sandstrom, Mrs. Hjalmar (Agnes Charlotta Bengt...</td>\n",
       "      <td>female</td>\n",
       "      <td>24.0</td>\n",
       "      <td>0</td>\n",
       "      <td>2</td>\n",
       "      <td>PP 9549</td>\n",
       "      <td>16.7000</td>\n",
       "      <td>G6</td>\n",
       "      <td>S</td>\n",
       "    </tr>\n",
       "  </tbody>\n",
       "</table>\n",
       "</div>"
      ],
      "text/plain": [
       "             Survived  Pclass  \\\n",
       "PassengerId                     \n",
       "11                  1       3   \n",
       "206                 0       3   \n",
       "252                 0       3   \n",
       "395                 1       3   \n",
       "\n",
       "                                                          Name     Sex   Age  \\\n",
       "PassengerId                                                                    \n",
       "11                             Sandstrom, Miss. Marguerite Rut  female   4.0   \n",
       "206                                 Strom, Miss. Telma Matilda  female   2.0   \n",
       "252                 Strom, Mrs. Wilhelm (Elna Matilda Persson)  female  29.0   \n",
       "395          Sandstrom, Mrs. Hjalmar (Agnes Charlotta Bengt...  female  24.0   \n",
       "\n",
       "             SibSp  Parch   Ticket     Fare Cabin Embarked  \n",
       "PassengerId                                                 \n",
       "11               1      1  PP 9549  16.7000    G6        S  \n",
       "206              0      1   347054  10.4625    G6        S  \n",
       "252              1      1   347054  10.4625    G6        S  \n",
       "395              0      2  PP 9549  16.7000    G6        S  "
      ]
     },
     "execution_count": 20,
     "metadata": {},
     "output_type": "execute_result"
    }
   ],
   "source": [
    "data.loc[data['Cabin']=='G6']"
   ]
  },
  {
   "cell_type": "markdown",
   "id": "b45a21d2",
   "metadata": {},
   "source": [
    "https://images.liverpoolmuseums.org.uk/2020-01/titanic-deck-plan-for-titanic-resource-pack-pdf.pdf"
   ]
  },
  {
   "cell_type": "code",
   "execution_count": 21,
   "id": "02e6070f",
   "metadata": {},
   "outputs": [
    {
     "data": {
      "text/html": [
       "<div>\n",
       "<style scoped>\n",
       "    .dataframe tbody tr th:only-of-type {\n",
       "        vertical-align: middle;\n",
       "    }\n",
       "\n",
       "    .dataframe tbody tr th {\n",
       "        vertical-align: top;\n",
       "    }\n",
       "\n",
       "    .dataframe thead th {\n",
       "        text-align: right;\n",
       "    }\n",
       "</style>\n",
       "<table border=\"1\" class=\"dataframe\">\n",
       "  <thead>\n",
       "    <tr style=\"text-align: right;\">\n",
       "      <th></th>\n",
       "      <th>Survived</th>\n",
       "      <th>Pclass</th>\n",
       "      <th>Name</th>\n",
       "      <th>Sex</th>\n",
       "      <th>Age</th>\n",
       "      <th>SibSp</th>\n",
       "      <th>Parch</th>\n",
       "      <th>Ticket</th>\n",
       "      <th>Fare</th>\n",
       "      <th>Cabin</th>\n",
       "      <th>Embarked</th>\n",
       "    </tr>\n",
       "    <tr>\n",
       "      <th>PassengerId</th>\n",
       "      <th></th>\n",
       "      <th></th>\n",
       "      <th></th>\n",
       "      <th></th>\n",
       "      <th></th>\n",
       "      <th></th>\n",
       "      <th></th>\n",
       "      <th></th>\n",
       "      <th></th>\n",
       "      <th></th>\n",
       "      <th></th>\n",
       "    </tr>\n",
       "  </thead>\n",
       "  <tbody>\n",
       "    <tr>\n",
       "      <th>7</th>\n",
       "      <td>0</td>\n",
       "      <td>1</td>\n",
       "      <td>McCarthy, Mr. Timothy J</td>\n",
       "      <td>male</td>\n",
       "      <td>54.0</td>\n",
       "      <td>0</td>\n",
       "      <td>0</td>\n",
       "      <td>17463</td>\n",
       "      <td>51.8625</td>\n",
       "      <td>E46</td>\n",
       "      <td>S</td>\n",
       "    </tr>\n",
       "    <tr>\n",
       "      <th>93</th>\n",
       "      <td>0</td>\n",
       "      <td>1</td>\n",
       "      <td>Chaffee, Mr. Herbert Fuller</td>\n",
       "      <td>male</td>\n",
       "      <td>46.0</td>\n",
       "      <td>1</td>\n",
       "      <td>0</td>\n",
       "      <td>W.E.P. 5734</td>\n",
       "      <td>61.1750</td>\n",
       "      <td>E31</td>\n",
       "      <td>S</td>\n",
       "    </tr>\n",
       "    <tr>\n",
       "      <th>124</th>\n",
       "      <td>1</td>\n",
       "      <td>2</td>\n",
       "      <td>Webber, Miss. Susan</td>\n",
       "      <td>female</td>\n",
       "      <td>32.5</td>\n",
       "      <td>0</td>\n",
       "      <td>0</td>\n",
       "      <td>27267</td>\n",
       "      <td>13.0000</td>\n",
       "      <td>E101</td>\n",
       "      <td>S</td>\n",
       "    </tr>\n",
       "    <tr>\n",
       "      <th>263</th>\n",
       "      <td>0</td>\n",
       "      <td>1</td>\n",
       "      <td>Taussig, Mr. Emil</td>\n",
       "      <td>male</td>\n",
       "      <td>52.0</td>\n",
       "      <td>1</td>\n",
       "      <td>1</td>\n",
       "      <td>110413</td>\n",
       "      <td>79.6500</td>\n",
       "      <td>E67</td>\n",
       "      <td>S</td>\n",
       "    </tr>\n",
       "    <tr>\n",
       "      <th>310</th>\n",
       "      <td>1</td>\n",
       "      <td>1</td>\n",
       "      <td>Francatelli, Miss. Laura Mabel</td>\n",
       "      <td>female</td>\n",
       "      <td>30.0</td>\n",
       "      <td>0</td>\n",
       "      <td>0</td>\n",
       "      <td>PC 17485</td>\n",
       "      <td>56.9292</td>\n",
       "      <td>E36</td>\n",
       "      <td>C</td>\n",
       "    </tr>\n",
       "  </tbody>\n",
       "</table>\n",
       "</div>"
      ],
      "text/plain": [
       "             Survived  Pclass                            Name     Sex   Age  \\\n",
       "PassengerId                                                                   \n",
       "7                   0       1         McCarthy, Mr. Timothy J    male  54.0   \n",
       "93                  0       1     Chaffee, Mr. Herbert Fuller    male  46.0   \n",
       "124                 1       2             Webber, Miss. Susan  female  32.5   \n",
       "263                 0       1               Taussig, Mr. Emil    male  52.0   \n",
       "310                 1       1  Francatelli, Miss. Laura Mabel  female  30.0   \n",
       "\n",
       "             SibSp  Parch       Ticket     Fare Cabin Embarked  \n",
       "PassengerId                                                     \n",
       "7                0      0        17463  51.8625   E46        S  \n",
       "93               1      0  W.E.P. 5734  61.1750   E31        S  \n",
       "124              0      0        27267  13.0000  E101        S  \n",
       "263              1      1       110413  79.6500   E67        S  \n",
       "310              0      0     PC 17485  56.9292   E36        C  "
      ]
     },
     "execution_count": 21,
     "metadata": {},
     "output_type": "execute_result"
    }
   ],
   "source": [
    "data2 = data.dropna(how='any') # just need to drop all NaN because str.contains can't deal with it\n",
    "data2.loc[ data2['Cabin'].str.contains('E') ].head()"
   ]
  },
  {
   "cell_type": "code",
   "execution_count": 22,
   "id": "ab8ce114",
   "metadata": {
    "scrolled": false
   },
   "outputs": [
    {
     "data": {
      "text/html": [
       "<div>\n",
       "<style scoped>\n",
       "    .dataframe tbody tr th:only-of-type {\n",
       "        vertical-align: middle;\n",
       "    }\n",
       "\n",
       "    .dataframe tbody tr th {\n",
       "        vertical-align: top;\n",
       "    }\n",
       "\n",
       "    .dataframe thead th {\n",
       "        text-align: right;\n",
       "    }\n",
       "</style>\n",
       "<table border=\"1\" class=\"dataframe\">\n",
       "  <thead>\n",
       "    <tr style=\"text-align: right;\">\n",
       "      <th></th>\n",
       "      <th>Survived</th>\n",
       "      <th>Pclass</th>\n",
       "      <th>Name</th>\n",
       "      <th>Sex</th>\n",
       "      <th>Age</th>\n",
       "      <th>SibSp</th>\n",
       "      <th>Parch</th>\n",
       "      <th>Ticket</th>\n",
       "      <th>Fare</th>\n",
       "      <th>Cabin</th>\n",
       "      <th>Embarked</th>\n",
       "    </tr>\n",
       "    <tr>\n",
       "      <th>PassengerId</th>\n",
       "      <th></th>\n",
       "      <th></th>\n",
       "      <th></th>\n",
       "      <th></th>\n",
       "      <th></th>\n",
       "      <th></th>\n",
       "      <th></th>\n",
       "      <th></th>\n",
       "      <th></th>\n",
       "      <th></th>\n",
       "      <th></th>\n",
       "    </tr>\n",
       "  </thead>\n",
       "  <tbody>\n",
       "    <tr>\n",
       "      <th>124</th>\n",
       "      <td>1</td>\n",
       "      <td>2</td>\n",
       "      <td>Webber, Miss. Susan</td>\n",
       "      <td>female</td>\n",
       "      <td>32.5</td>\n",
       "      <td>0</td>\n",
       "      <td>0</td>\n",
       "      <td>27267</td>\n",
       "      <td>13.000</td>\n",
       "      <td>E101</td>\n",
       "      <td>S</td>\n",
       "    </tr>\n",
       "    <tr>\n",
       "      <th>824</th>\n",
       "      <td>1</td>\n",
       "      <td>3</td>\n",
       "      <td>Moor, Mrs. (Beila)</td>\n",
       "      <td>female</td>\n",
       "      <td>27.0</td>\n",
       "      <td>0</td>\n",
       "      <td>1</td>\n",
       "      <td>392096</td>\n",
       "      <td>12.475</td>\n",
       "      <td>E121</td>\n",
       "      <td>S</td>\n",
       "    </tr>\n",
       "    <tr>\n",
       "      <th>430</th>\n",
       "      <td>1</td>\n",
       "      <td>3</td>\n",
       "      <td>Pickard, Mr. Berk (Berk Trembisky)</td>\n",
       "      <td>male</td>\n",
       "      <td>32.0</td>\n",
       "      <td>0</td>\n",
       "      <td>0</td>\n",
       "      <td>SOTON/O.Q. 392078</td>\n",
       "      <td>8.050</td>\n",
       "      <td>E10</td>\n",
       "      <td>S</td>\n",
       "    </tr>\n",
       "    <tr>\n",
       "      <th>718</th>\n",
       "      <td>1</td>\n",
       "      <td>2</td>\n",
       "      <td>Troutt, Miss. Edwina Celia \"Winnie\"</td>\n",
       "      <td>female</td>\n",
       "      <td>27.0</td>\n",
       "      <td>0</td>\n",
       "      <td>0</td>\n",
       "      <td>34218</td>\n",
       "      <td>10.500</td>\n",
       "      <td>E101</td>\n",
       "      <td>S</td>\n",
       "    </tr>\n",
       "    <tr>\n",
       "      <th>752</th>\n",
       "      <td>1</td>\n",
       "      <td>3</td>\n",
       "      <td>Moor, Master. Meier</td>\n",
       "      <td>male</td>\n",
       "      <td>6.0</td>\n",
       "      <td>0</td>\n",
       "      <td>1</td>\n",
       "      <td>392096</td>\n",
       "      <td>12.475</td>\n",
       "      <td>E121</td>\n",
       "      <td>S</td>\n",
       "    </tr>\n",
       "    <tr>\n",
       "      <th>773</th>\n",
       "      <td>0</td>\n",
       "      <td>2</td>\n",
       "      <td>Mack, Mrs. (Mary)</td>\n",
       "      <td>female</td>\n",
       "      <td>57.0</td>\n",
       "      <td>0</td>\n",
       "      <td>0</td>\n",
       "      <td>S.O./P.P. 3</td>\n",
       "      <td>10.500</td>\n",
       "      <td>E77</td>\n",
       "      <td>S</td>\n",
       "    </tr>\n",
       "  </tbody>\n",
       "</table>\n",
       "</div>"
      ],
      "text/plain": [
       "             Survived  Pclass                                 Name     Sex  \\\n",
       "PassengerId                                                                  \n",
       "124                 1       2                  Webber, Miss. Susan  female   \n",
       "824                 1       3                   Moor, Mrs. (Beila)  female   \n",
       "430                 1       3   Pickard, Mr. Berk (Berk Trembisky)    male   \n",
       "718                 1       2  Troutt, Miss. Edwina Celia \"Winnie\"  female   \n",
       "752                 1       3                  Moor, Master. Meier    male   \n",
       "773                 0       2                    Mack, Mrs. (Mary)  female   \n",
       "\n",
       "              Age  SibSp  Parch             Ticket    Fare Cabin Embarked  \n",
       "PassengerId                                                                \n",
       "124          32.5      0      0              27267  13.000  E101        S  \n",
       "824          27.0      0      1             392096  12.475  E121        S  \n",
       "430          32.0      0      0  SOTON/O.Q. 392078   8.050   E10        S  \n",
       "718          27.0      0      0              34218  10.500  E101        S  \n",
       "752           6.0      0      1             392096  12.475  E121        S  \n",
       "773          57.0      0      0        S.O./P.P. 3  10.500   E77        S  "
      ]
     },
     "execution_count": 22,
     "metadata": {},
     "output_type": "execute_result"
    }
   ],
   "source": [
    "data2.loc[(data2['Cabin'].str.contains('E')) & ((data2['Pclass']==2) | (data2['Pclass']==3))].sample(6)"
   ]
  },
  {
   "cell_type": "markdown",
   "id": "5a0418f1",
   "metadata": {},
   "source": [
    "### Grouping Data"
   ]
  },
  {
   "cell_type": "code",
   "execution_count": 52,
   "id": "109a93dd",
   "metadata": {},
   "outputs": [],
   "source": [
    "data['age_group'] = pd.cut(\n",
    "    data['Age'],\n",
    "    bins=range(10, 101, 10),\n",
    "    right=False,\n",
    "    labels=[f'{age_start}~{age_start + 9}'\n",
    "            for age_start in range(10, 100, 10)]\n",
    ")"
   ]
  },
  {
   "cell_type": "code",
   "execution_count": 53,
   "id": "623240a1",
   "metadata": {},
   "outputs": [
    {
     "data": {
      "text/plain": [
       "Index(['10~19', '20~29', '30~39', '40~49', '50~59', '60~69', '70~79', '80~89',\n",
       "       '90~99'],\n",
       "      dtype='object')"
      ]
     },
     "execution_count": 53,
     "metadata": {},
     "output_type": "execute_result"
    }
   ],
   "source": [
    "data['age_group'].cat.categories"
   ]
  },
  {
   "cell_type": "code",
   "execution_count": 54,
   "id": "c9066da6",
   "metadata": {},
   "outputs": [
    {
     "data": {
      "text/html": [
       "<div>\n",
       "<style scoped>\n",
       "    .dataframe tbody tr th:only-of-type {\n",
       "        vertical-align: middle;\n",
       "    }\n",
       "\n",
       "    .dataframe tbody tr th {\n",
       "        vertical-align: top;\n",
       "    }\n",
       "\n",
       "    .dataframe thead th {\n",
       "        text-align: right;\n",
       "    }\n",
       "</style>\n",
       "<table border=\"1\" class=\"dataframe\">\n",
       "  <thead>\n",
       "    <tr style=\"text-align: right;\">\n",
       "      <th></th>\n",
       "      <th>Age</th>\n",
       "      <th>age_group</th>\n",
       "    </tr>\n",
       "    <tr>\n",
       "      <th>PassengerId</th>\n",
       "      <th></th>\n",
       "      <th></th>\n",
       "    </tr>\n",
       "  </thead>\n",
       "  <tbody>\n",
       "    <tr>\n",
       "      <th>882</th>\n",
       "      <td>33</td>\n",
       "      <td>30~39</td>\n",
       "    </tr>\n",
       "    <tr>\n",
       "      <th>883</th>\n",
       "      <td>22</td>\n",
       "      <td>20~29</td>\n",
       "    </tr>\n",
       "    <tr>\n",
       "      <th>884</th>\n",
       "      <td>28</td>\n",
       "      <td>20~29</td>\n",
       "    </tr>\n",
       "    <tr>\n",
       "      <th>885</th>\n",
       "      <td>25</td>\n",
       "      <td>20~29</td>\n",
       "    </tr>\n",
       "    <tr>\n",
       "      <th>886</th>\n",
       "      <td>39</td>\n",
       "      <td>30~39</td>\n",
       "    </tr>\n",
       "    <tr>\n",
       "      <th>887</th>\n",
       "      <td>27</td>\n",
       "      <td>20~29</td>\n",
       "    </tr>\n",
       "    <tr>\n",
       "      <th>888</th>\n",
       "      <td>19</td>\n",
       "      <td>10~19</td>\n",
       "    </tr>\n",
       "    <tr>\n",
       "      <th>889</th>\n",
       "      <td>29</td>\n",
       "      <td>20~29</td>\n",
       "    </tr>\n",
       "    <tr>\n",
       "      <th>890</th>\n",
       "      <td>26</td>\n",
       "      <td>20~29</td>\n",
       "    </tr>\n",
       "    <tr>\n",
       "      <th>891</th>\n",
       "      <td>32</td>\n",
       "      <td>30~39</td>\n",
       "    </tr>\n",
       "  </tbody>\n",
       "</table>\n",
       "</div>"
      ],
      "text/plain": [
       "             Age age_group\n",
       "PassengerId               \n",
       "882           33     30~39\n",
       "883           22     20~29\n",
       "884           28     20~29\n",
       "885           25     20~29\n",
       "886           39     30~39\n",
       "887           27     20~29\n",
       "888           19     10~19\n",
       "889           29     20~29\n",
       "890           26     20~29\n",
       "891           32     30~39"
      ]
     },
     "execution_count": 54,
     "metadata": {},
     "output_type": "execute_result"
    }
   ],
   "source": [
    "data[['Age', 'age_group']].tail(10)"
   ]
  },
  {
   "cell_type": "code",
   "execution_count": 66,
   "id": "ad461921",
   "metadata": {},
   "outputs": [
    {
     "data": {
      "image/png": "[encoded data removed]",
      "text/plain": [
       "<Figure size 432x288 with 1 Axes>"
      ]
     },
     "metadata": {
      "needs_background": "light"
     },
     "output_type": "display_data"
    }
   ],
   "source": [
    "sns.histplot(data=data, x='age_group', hue='Survived', multiple='stack')\n",
    "# customise\n",
    "plt.gca().set(xlabel=\"Age Group (years)\");"
   ]
  },
  {
   "cell_type": "markdown",
   "id": "984f6135",
   "metadata": {},
   "source": [
    "## 5. Clean the data"
   ]
  },
  {
   "cell_type": "markdown",
   "id": "178a0685",
   "metadata": {},
   "source": [
    "There's lots of different ways to clean the data that depends on the dataset, but here we drop columns, drop rows, impute data, rename columns, change data type, etc.\n",
    "\n",
    "I'm going through a **non-exhaustive** set of examples..."
   ]
  },
  {
   "cell_type": "code",
   "execution_count": 23,
   "id": "16d0280c",
   "metadata": {},
   "outputs": [
    {
     "name": "stdout",
     "output_type": "stream",
     "text": [
      "3\n",
      "0\n"
     ]
    }
   ],
   "source": [
    "print(data['Pclass'].nunique())\n",
    "print(data['Pclass'].isnull().sum())"
   ]
  },
  {
   "cell_type": "code",
   "execution_count": 24,
   "id": "e5a6ea2e",
   "metadata": {},
   "outputs": [
    {
     "data": {
      "text/html": [
       "<div>\n",
       "<style scoped>\n",
       "    .dataframe tbody tr th:only-of-type {\n",
       "        vertical-align: middle;\n",
       "    }\n",
       "\n",
       "    .dataframe tbody tr th {\n",
       "        vertical-align: top;\n",
       "    }\n",
       "\n",
       "    .dataframe thead th {\n",
       "        text-align: right;\n",
       "    }\n",
       "</style>\n",
       "<table border=\"1\" class=\"dataframe\">\n",
       "  <thead>\n",
       "    <tr style=\"text-align: right;\">\n",
       "      <th></th>\n",
       "      <th>Variable</th>\n",
       "      <th>Number of unique values</th>\n",
       "      <th>Number of nulls</th>\n",
       "    </tr>\n",
       "  </thead>\n",
       "  <tbody>\n",
       "    <tr>\n",
       "      <th>0</th>\n",
       "      <td>Survived</td>\n",
       "      <td>2</td>\n",
       "      <td>0</td>\n",
       "    </tr>\n",
       "    <tr>\n",
       "      <th>1</th>\n",
       "      <td>Pclass</td>\n",
       "      <td>3</td>\n",
       "      <td>0</td>\n",
       "    </tr>\n",
       "    <tr>\n",
       "      <th>2</th>\n",
       "      <td>Name</td>\n",
       "      <td>891</td>\n",
       "      <td>0</td>\n",
       "    </tr>\n",
       "    <tr>\n",
       "      <th>3</th>\n",
       "      <td>Sex</td>\n",
       "      <td>2</td>\n",
       "      <td>0</td>\n",
       "    </tr>\n",
       "    <tr>\n",
       "      <th>4</th>\n",
       "      <td>Age</td>\n",
       "      <td>88</td>\n",
       "      <td>177</td>\n",
       "    </tr>\n",
       "    <tr>\n",
       "      <th>5</th>\n",
       "      <td>SibSp</td>\n",
       "      <td>7</td>\n",
       "      <td>0</td>\n",
       "    </tr>\n",
       "    <tr>\n",
       "      <th>6</th>\n",
       "      <td>Parch</td>\n",
       "      <td>7</td>\n",
       "      <td>0</td>\n",
       "    </tr>\n",
       "    <tr>\n",
       "      <th>7</th>\n",
       "      <td>Ticket</td>\n",
       "      <td>681</td>\n",
       "      <td>0</td>\n",
       "    </tr>\n",
       "    <tr>\n",
       "      <th>8</th>\n",
       "      <td>Fare</td>\n",
       "      <td>248</td>\n",
       "      <td>0</td>\n",
       "    </tr>\n",
       "    <tr>\n",
       "      <th>9</th>\n",
       "      <td>Cabin</td>\n",
       "      <td>147</td>\n",
       "      <td>687</td>\n",
       "    </tr>\n",
       "    <tr>\n",
       "      <th>10</th>\n",
       "      <td>Embarked</td>\n",
       "      <td>3</td>\n",
       "      <td>2</td>\n",
       "    </tr>\n",
       "  </tbody>\n",
       "</table>\n",
       "</div>"
      ],
      "text/plain": [
       "    Variable  Number of unique values  Number of nulls\n",
       "0   Survived                        2                0\n",
       "1     Pclass                        3                0\n",
       "2       Name                      891                0\n",
       "3        Sex                        2                0\n",
       "4        Age                       88              177\n",
       "5      SibSp                        7                0\n",
       "6      Parch                        7                0\n",
       "7     Ticket                      681                0\n",
       "8       Fare                      248                0\n",
       "9      Cabin                      147              687\n",
       "10  Embarked                        3                2"
      ]
     },
     "execution_count": 24,
     "metadata": {},
     "output_type": "execute_result"
    }
   ],
   "source": [
    "# Show the count of missing values (NaN) for each column and the number of unique entries\n",
    "variables = pd.DataFrame(columns=['Variable','Number of unique values','Number of nulls'])\n",
    "\n",
    "for i, var in enumerate(data.columns):\n",
    "    variables.loc[i] = [var, data[var].nunique(), data[var].isnull().sum()]\n",
    "\n",
    "variables"
   ]
  },
  {
   "cell_type": "code",
   "execution_count": 25,
   "id": "cf6d4c6e",
   "metadata": {},
   "outputs": [
    {
     "name": "stdout",
     "output_type": "stream",
     "text": [
      "Survived (2): [0 1]\n",
      "\n",
      "Pclass (3): [3 1 2]\n",
      "\n",
      "Name (891)\n",
      "\n",
      "Sex (2): ['male' 'female']\n",
      "\n",
      "Age (88): [22.   38.   26.   35.     nan 54.    2.   27.   14.    4.   58.   20.\n",
      " 39.   55.   31.   34.   15.   28.    8.   19.   40.   66.   42.   21.\n",
      " 18.    3.    7.   49.   29.   65.   28.5   5.   11.   45.   17.   32.\n",
      " 16.   25.    0.83 30.   33.   23.   24.   46.   59.   71.   37.   47.\n",
      " 14.5  70.5  32.5  12.    9.   36.5  51.   55.5  40.5  44.    1.   61.\n",
      " 56.   50.   36.   45.5  20.5  62.   41.   52.   63.   23.5   0.92 43.\n",
      " 60.   10.   64.   13.   48.    0.75 53.   57.   80.   70.   24.5   6.\n",
      "  0.67 30.5   0.42 34.5  74.  ]\n",
      "\n",
      "SibSp (7): [1 0 3 4 2 5 8]\n",
      "\n",
      "Parch (7): [0 1 2 5 3 4 6]\n",
      "\n",
      "Ticket (681)\n",
      "\n",
      "Fare (248)\n",
      "\n",
      "Cabin (147)\n",
      "\n",
      "Embarked (3): ['S' 'C' 'Q' nan]\n",
      "\n"
     ]
    }
   ],
   "source": [
    "# Display unique values in any column using f-strings\n",
    "\n",
    "for column in data.columns:\n",
    "  n_unique = data[column].nunique()\n",
    "  if data[column].nunique() <= 88:                                # number of unique ages is the largest manageble number of unique entries\n",
    "    print(f'{column} ({n_unique}): {data[column].unique()}\\n')\n",
    "  else:\n",
    "    print(f'{column} ({n_unique})\\n')"
   ]
  },
  {
   "cell_type": "markdown",
   "id": "2f79a9e2",
   "metadata": {},
   "source": [
    "There are numerous ways to handle missing data and these are dependent on the data type. The 3 most common are as follows:\n",
    "\n",
    "1.   **Drop missing values** | in the case that there are variables containing few missing values this would be a good option; but it is important to note that dropping those values will drop the entire row, including the good data that is stored on other variables within that row. \n",
    "\n",
    "2.   **Impute with the mean or median** | replacing missing values with the mean for the variable in a numerical column is another option if there are not many outliers in the variable. If there are many outliers, it may be advisable to impute with the median value.\n",
    "\n",
    "3.   **Impute with the mode** | if the variable is categorical, missing values can be replaced with the most frequent value."
   ]
  },
  {
   "cell_type": "code",
   "execution_count": 26,
   "id": "5c53b185",
   "metadata": {},
   "outputs": [],
   "source": [
    "# Impute mean\n",
    "data['Age'].fillna((data['Age'].mean()), inplace=True)"
   ]
  },
  {
   "cell_type": "code",
   "execution_count": 27,
   "id": "5b19a9fb",
   "metadata": {},
   "outputs": [
    {
     "name": "stdout",
     "output_type": "stream",
     "text": [
      "<class 'pandas.core.frame.DataFrame'>\n",
      "Int64Index: 891 entries, 1 to 891\n",
      "Data columns (total 11 columns):\n",
      " #   Column    Non-Null Count  Dtype  \n",
      "---  ------    --------------  -----  \n",
      " 0   Survived  891 non-null    int64  \n",
      " 1   Pclass    891 non-null    int64  \n",
      " 2   Name      891 non-null    object \n",
      " 3   Sex       891 non-null    object \n",
      " 4   Age       891 non-null    float64\n",
      " 5   SibSp     891 non-null    int64  \n",
      " 6   Parch     891 non-null    int64  \n",
      " 7   Ticket    891 non-null    object \n",
      " 8   Fare      891 non-null    float64\n",
      " 9   Cabin     204 non-null    object \n",
      " 10  Embarked  889 non-null    object \n",
      "dtypes: float64(2), int64(4), object(5)\n",
      "memory usage: 83.5+ KB\n"
     ]
    }
   ],
   "source": [
    "data.info()"
   ]
  },
  {
   "cell_type": "code",
   "execution_count": 28,
   "id": "2042f535",
   "metadata": {},
   "outputs": [],
   "source": [
    "# Change data type\n",
    "data['Age'] = data['Age'].astype(int)"
   ]
  },
  {
   "cell_type": "code",
   "execution_count": 29,
   "id": "3c88a2a3",
   "metadata": {},
   "outputs": [
    {
     "name": "stdout",
     "output_type": "stream",
     "text": [
      "<class 'pandas.core.frame.DataFrame'>\n",
      "Int64Index: 891 entries, 1 to 891\n",
      "Data columns (total 11 columns):\n",
      " #   Column    Non-Null Count  Dtype  \n",
      "---  ------    --------------  -----  \n",
      " 0   Survived  891 non-null    int64  \n",
      " 1   Pclass    891 non-null    int64  \n",
      " 2   Name      891 non-null    object \n",
      " 3   Sex       891 non-null    object \n",
      " 4   Age       891 non-null    int32  \n",
      " 5   SibSp     891 non-null    int64  \n",
      " 6   Parch     891 non-null    int64  \n",
      " 7   Ticket    891 non-null    object \n",
      " 8   Fare      891 non-null    float64\n",
      " 9   Cabin     204 non-null    object \n",
      " 10  Embarked  889 non-null    object \n",
      "dtypes: float64(1), int32(1), int64(4), object(5)\n",
      "memory usage: 80.1+ KB\n"
     ]
    }
   ],
   "source": [
    "data.info()"
   ]
  },
  {
   "cell_type": "code",
   "execution_count": 30,
   "id": "582a1b23",
   "metadata": {},
   "outputs": [],
   "source": [
    "# drop columns\n",
    "data.drop(['Name', 'Ticket', 'Cabin'], axis=1, inplace=True)"
   ]
  },
  {
   "cell_type": "code",
   "execution_count": 31,
   "id": "95265796",
   "metadata": {},
   "outputs": [
    {
     "data": {
      "text/plain": [
       "Index(['Survived', 'Pclass', 'Sex', 'Age', 'SibSp', 'Parch', 'Fare',\n",
       "       'Embarked'],\n",
       "      dtype='object')"
      ]
     },
     "execution_count": 31,
     "metadata": {},
     "output_type": "execute_result"
    }
   ],
   "source": [
    "data.keys()"
   ]
  },
  {
   "cell_type": "code",
   "execution_count": 32,
   "id": "252d0b00",
   "metadata": {},
   "outputs": [
    {
     "data": {
      "text/plain": [
       "Index(['Survived', 'Pclass', 'Gender', 'Age', 'SibSp', 'Parch', 'Fare',\n",
       "       'Embarked'],\n",
       "      dtype='object')"
      ]
     },
     "execution_count": 32,
     "metadata": {},
     "output_type": "execute_result"
    }
   ],
   "source": [
    "# rename column headers\n",
    "data.rename(columns={'Sex': 'Gender'}, inplace=True)\n",
    "data.keys()"
   ]
  },
  {
   "cell_type": "code",
   "execution_count": 33,
   "id": "f021b247",
   "metadata": {},
   "outputs": [
    {
     "data": {
      "text/html": [
       "<div>\n",
       "<style scoped>\n",
       "    .dataframe tbody tr th:only-of-type {\n",
       "        vertical-align: middle;\n",
       "    }\n",
       "\n",
       "    .dataframe tbody tr th {\n",
       "        vertical-align: top;\n",
       "    }\n",
       "\n",
       "    .dataframe thead th {\n",
       "        text-align: right;\n",
       "    }\n",
       "</style>\n",
       "<table border=\"1\" class=\"dataframe\">\n",
       "  <thead>\n",
       "    <tr style=\"text-align: right;\">\n",
       "      <th></th>\n",
       "      <th>Survived</th>\n",
       "      <th>Pclass</th>\n",
       "      <th>Gender</th>\n",
       "      <th>Age</th>\n",
       "      <th>SibSp</th>\n",
       "      <th>Parch</th>\n",
       "      <th>Fare</th>\n",
       "      <th>Embarked</th>\n",
       "    </tr>\n",
       "    <tr>\n",
       "      <th>PassengerId</th>\n",
       "      <th></th>\n",
       "      <th></th>\n",
       "      <th></th>\n",
       "      <th></th>\n",
       "      <th></th>\n",
       "      <th></th>\n",
       "      <th></th>\n",
       "      <th></th>\n",
       "    </tr>\n",
       "  </thead>\n",
       "  <tbody>\n",
       "    <tr>\n",
       "      <th>1</th>\n",
       "      <td>0</td>\n",
       "      <td>3</td>\n",
       "      <td>MALE</td>\n",
       "      <td>22</td>\n",
       "      <td>1</td>\n",
       "      <td>0</td>\n",
       "      <td>7.2500</td>\n",
       "      <td>S</td>\n",
       "    </tr>\n",
       "    <tr>\n",
       "      <th>2</th>\n",
       "      <td>1</td>\n",
       "      <td>1</td>\n",
       "      <td>FEMALE</td>\n",
       "      <td>38</td>\n",
       "      <td>1</td>\n",
       "      <td>0</td>\n",
       "      <td>71.2833</td>\n",
       "      <td>C</td>\n",
       "    </tr>\n",
       "    <tr>\n",
       "      <th>3</th>\n",
       "      <td>1</td>\n",
       "      <td>3</td>\n",
       "      <td>FEMALE</td>\n",
       "      <td>26</td>\n",
       "      <td>0</td>\n",
       "      <td>0</td>\n",
       "      <td>7.9250</td>\n",
       "      <td>S</td>\n",
       "    </tr>\n",
       "  </tbody>\n",
       "</table>\n",
       "</div>"
      ],
      "text/plain": [
       "             Survived  Pclass  Gender  Age  SibSp  Parch     Fare Embarked\n",
       "PassengerId                                                               \n",
       "1                   0       3    MALE   22      1      0   7.2500        S\n",
       "2                   1       1  FEMALE   38      1      0  71.2833        C\n",
       "3                   1       3  FEMALE   26      0      0   7.9250        S"
      ]
     },
     "execution_count": 33,
     "metadata": {},
     "output_type": "execute_result"
    }
   ],
   "source": [
    "# Tidy names - uppercase\n",
    "data['Gender'] = data.Gender.apply(lambda x: x.upper())      \n",
    "data.head(3)"
   ]
  },
  {
   "cell_type": "code",
   "execution_count": 34,
   "id": "b03f73f2",
   "metadata": {},
   "outputs": [
    {
     "data": {
      "text/html": [
       "<div>\n",
       "<style scoped>\n",
       "    .dataframe tbody tr th:only-of-type {\n",
       "        vertical-align: middle;\n",
       "    }\n",
       "\n",
       "    .dataframe tbody tr th {\n",
       "        vertical-align: top;\n",
       "    }\n",
       "\n",
       "    .dataframe thead th {\n",
       "        text-align: right;\n",
       "    }\n",
       "</style>\n",
       "<table border=\"1\" class=\"dataframe\">\n",
       "  <thead>\n",
       "    <tr style=\"text-align: right;\">\n",
       "      <th></th>\n",
       "      <th>Survived</th>\n",
       "      <th>Pclass</th>\n",
       "      <th>Gender</th>\n",
       "      <th>Age</th>\n",
       "      <th>SibSp</th>\n",
       "      <th>Parch</th>\n",
       "      <th>Fare</th>\n",
       "      <th>Embarked</th>\n",
       "    </tr>\n",
       "    <tr>\n",
       "      <th>PassengerId</th>\n",
       "      <th></th>\n",
       "      <th></th>\n",
       "      <th></th>\n",
       "      <th></th>\n",
       "      <th></th>\n",
       "      <th></th>\n",
       "      <th></th>\n",
       "      <th></th>\n",
       "    </tr>\n",
       "  </thead>\n",
       "  <tbody>\n",
       "    <tr>\n",
       "      <th>1</th>\n",
       "      <td>0</td>\n",
       "      <td>3</td>\n",
       "      <td>male</td>\n",
       "      <td>22</td>\n",
       "      <td>1</td>\n",
       "      <td>0</td>\n",
       "      <td>7.2500</td>\n",
       "      <td>S</td>\n",
       "    </tr>\n",
       "    <tr>\n",
       "      <th>2</th>\n",
       "      <td>1</td>\n",
       "      <td>1</td>\n",
       "      <td>female</td>\n",
       "      <td>38</td>\n",
       "      <td>1</td>\n",
       "      <td>0</td>\n",
       "      <td>71.2833</td>\n",
       "      <td>C</td>\n",
       "    </tr>\n",
       "    <tr>\n",
       "      <th>3</th>\n",
       "      <td>1</td>\n",
       "      <td>3</td>\n",
       "      <td>female</td>\n",
       "      <td>26</td>\n",
       "      <td>0</td>\n",
       "      <td>0</td>\n",
       "      <td>7.9250</td>\n",
       "      <td>S</td>\n",
       "    </tr>\n",
       "  </tbody>\n",
       "</table>\n",
       "</div>"
      ],
      "text/plain": [
       "             Survived  Pclass  Gender  Age  SibSp  Parch     Fare Embarked\n",
       "PassengerId                                                               \n",
       "1                   0       3    male   22      1      0   7.2500        S\n",
       "2                   1       1  female   38      1      0  71.2833        C\n",
       "3                   1       3  female   26      0      0   7.9250        S"
      ]
     },
     "execution_count": 34,
     "metadata": {},
     "output_type": "execute_result"
    }
   ],
   "source": [
    "# Tidy names - lowercase\n",
    "data['Gender'] = data.Gender.apply(lambda x: x.lower())      \n",
    "data.head(3)"
   ]
  },
  {
   "cell_type": "code",
   "execution_count": 35,
   "id": "6069daf2",
   "metadata": {},
   "outputs": [
    {
     "data": {
      "text/html": [
       "<div>\n",
       "<style scoped>\n",
       "    .dataframe tbody tr th:only-of-type {\n",
       "        vertical-align: middle;\n",
       "    }\n",
       "\n",
       "    .dataframe tbody tr th {\n",
       "        vertical-align: top;\n",
       "    }\n",
       "\n",
       "    .dataframe thead th {\n",
       "        text-align: right;\n",
       "    }\n",
       "</style>\n",
       "<table border=\"1\" class=\"dataframe\">\n",
       "  <thead>\n",
       "    <tr style=\"text-align: right;\">\n",
       "      <th></th>\n",
       "      <th>Survived</th>\n",
       "      <th>Pclass</th>\n",
       "      <th>Gender</th>\n",
       "      <th>Age</th>\n",
       "      <th>SibSp</th>\n",
       "      <th>Parch</th>\n",
       "      <th>Fare</th>\n",
       "      <th>Embarked</th>\n",
       "    </tr>\n",
       "    <tr>\n",
       "      <th>PassengerId</th>\n",
       "      <th></th>\n",
       "      <th></th>\n",
       "      <th></th>\n",
       "      <th></th>\n",
       "      <th></th>\n",
       "      <th></th>\n",
       "      <th></th>\n",
       "      <th></th>\n",
       "    </tr>\n",
       "  </thead>\n",
       "  <tbody>\n",
       "    <tr>\n",
       "      <th>1</th>\n",
       "      <td>0</td>\n",
       "      <td>3</td>\n",
       "      <td>m</td>\n",
       "      <td>22</td>\n",
       "      <td>1</td>\n",
       "      <td>0</td>\n",
       "      <td>7.2500</td>\n",
       "      <td>S</td>\n",
       "    </tr>\n",
       "    <tr>\n",
       "      <th>2</th>\n",
       "      <td>1</td>\n",
       "      <td>1</td>\n",
       "      <td>f</td>\n",
       "      <td>38</td>\n",
       "      <td>1</td>\n",
       "      <td>0</td>\n",
       "      <td>71.2833</td>\n",
       "      <td>C</td>\n",
       "    </tr>\n",
       "    <tr>\n",
       "      <th>3</th>\n",
       "      <td>1</td>\n",
       "      <td>3</td>\n",
       "      <td>f</td>\n",
       "      <td>26</td>\n",
       "      <td>0</td>\n",
       "      <td>0</td>\n",
       "      <td>7.9250</td>\n",
       "      <td>S</td>\n",
       "    </tr>\n",
       "  </tbody>\n",
       "</table>\n",
       "</div>"
      ],
      "text/plain": [
       "             Survived  Pclass Gender  Age  SibSp  Parch     Fare Embarked\n",
       "PassengerId                                                              \n",
       "1                   0       3      m   22      1      0   7.2500        S\n",
       "2                   1       1      f   38      1      0  71.2833        C\n",
       "3                   1       3      f   26      0      0   7.9250        S"
      ]
     },
     "execution_count": 35,
     "metadata": {},
     "output_type": "execute_result"
    }
   ],
   "source": [
    "data.replace(to_replace = 'male', value ='m', inplace=True)\n",
    "data.replace(to_replace = 'female', value ='f', inplace=True)\n",
    "data.head(3)"
   ]
  },
  {
   "cell_type": "markdown",
   "id": "c98f0a0c",
   "metadata": {},
   "source": [
    "### 6. Feature Engineering"
   ]
  },
  {
   "cell_type": "markdown",
   "id": "73a6507e",
   "metadata": {},
   "source": [
    "Question: Did passengers travelling alone have a better chance of survival?"
   ]
  },
  {
   "cell_type": "markdown",
   "id": "aa4494bb",
   "metadata": {},
   "source": [
    "**Why do we want to know if a passenger is travelling alone?**\n",
    "\n",
    "Consider this...if a passenger is travelling with a loved one it probably doesn't matter too much if it's their spouse or child, they wouldn't have wanted to be separated from either. This means that passengers travelling with any family would've been slower getting to the lifeboats. Passengers travelling alone would have only been looking out for themselves. \n",
    "\n",
    "Does this make it more likely that they will survive? Run the queries to find out and then plot them up!\n",
    "\n",
    "* How many passengers travelling alone were female? - females were more likely to be admitted onto the lifeboats than males, regardless of class\n",
    "\n",
    "* What was the class of passengers travelling alone?"
   ]
  },
  {
   "cell_type": "markdown",
   "id": "4ef7de1a",
   "metadata": {},
   "source": [
    "This is where one can get very creative! How can we create new features from the existing data - either in addition or to combine features to reduce dimensionality (and therefore increase explainability - i.e. make the data, and hence the ML models, simpler)?"
   ]
  },
  {
   "cell_type": "code",
   "execution_count": 36,
   "id": "1f36f79e",
   "metadata": {},
   "outputs": [],
   "source": [
    "# create user-defined function\n",
    "\n",
    "def travel_alone(SibSp, Parch):\n",
    "   \n",
    "    if SibSp==0 and Parch==0:                                                            \n",
    "        return 1\n",
    "    elif SibSp>=1 or Parch>=1:                                                                                \n",
    "        return 0\n",
    "    \n",
    "# Apply condition to new column\n",
    "data['Alone'] = data.apply(\n",
    "lambda x: travel_alone(x['SibSp'], x['Parch']),\n",
    "axis=1\n",
    ")"
   ]
  },
  {
   "cell_type": "code",
   "execution_count": 37,
   "id": "a1f2c5cb",
   "metadata": {},
   "outputs": [
    {
     "data": {
      "text/html": [
       "<div>\n",
       "<style scoped>\n",
       "    .dataframe tbody tr th:only-of-type {\n",
       "        vertical-align: middle;\n",
       "    }\n",
       "\n",
       "    .dataframe tbody tr th {\n",
       "        vertical-align: top;\n",
       "    }\n",
       "\n",
       "    .dataframe thead th {\n",
       "        text-align: right;\n",
       "    }\n",
       "</style>\n",
       "<table border=\"1\" class=\"dataframe\">\n",
       "  <thead>\n",
       "    <tr style=\"text-align: right;\">\n",
       "      <th></th>\n",
       "      <th>Survived</th>\n",
       "      <th>Pclass</th>\n",
       "      <th>Gender</th>\n",
       "      <th>Age</th>\n",
       "      <th>Fare</th>\n",
       "      <th>Embarked</th>\n",
       "      <th>Alone</th>\n",
       "    </tr>\n",
       "    <tr>\n",
       "      <th>PassengerId</th>\n",
       "      <th></th>\n",
       "      <th></th>\n",
       "      <th></th>\n",
       "      <th></th>\n",
       "      <th></th>\n",
       "      <th></th>\n",
       "      <th></th>\n",
       "    </tr>\n",
       "  </thead>\n",
       "  <tbody>\n",
       "    <tr>\n",
       "      <th>1</th>\n",
       "      <td>0</td>\n",
       "      <td>3</td>\n",
       "      <td>m</td>\n",
       "      <td>22</td>\n",
       "      <td>7.2500</td>\n",
       "      <td>S</td>\n",
       "      <td>0</td>\n",
       "    </tr>\n",
       "    <tr>\n",
       "      <th>2</th>\n",
       "      <td>1</td>\n",
       "      <td>1</td>\n",
       "      <td>f</td>\n",
       "      <td>38</td>\n",
       "      <td>71.2833</td>\n",
       "      <td>C</td>\n",
       "      <td>0</td>\n",
       "    </tr>\n",
       "    <tr>\n",
       "      <th>3</th>\n",
       "      <td>1</td>\n",
       "      <td>3</td>\n",
       "      <td>f</td>\n",
       "      <td>26</td>\n",
       "      <td>7.9250</td>\n",
       "      <td>S</td>\n",
       "      <td>1</td>\n",
       "    </tr>\n",
       "    <tr>\n",
       "      <th>4</th>\n",
       "      <td>1</td>\n",
       "      <td>1</td>\n",
       "      <td>f</td>\n",
       "      <td>35</td>\n",
       "      <td>53.1000</td>\n",
       "      <td>S</td>\n",
       "      <td>0</td>\n",
       "    </tr>\n",
       "    <tr>\n",
       "      <th>5</th>\n",
       "      <td>0</td>\n",
       "      <td>3</td>\n",
       "      <td>m</td>\n",
       "      <td>35</td>\n",
       "      <td>8.0500</td>\n",
       "      <td>S</td>\n",
       "      <td>1</td>\n",
       "    </tr>\n",
       "  </tbody>\n",
       "</table>\n",
       "</div>"
      ],
      "text/plain": [
       "             Survived  Pclass Gender  Age     Fare Embarked  Alone\n",
       "PassengerId                                                       \n",
       "1                   0       3      m   22   7.2500        S      0\n",
       "2                   1       1      f   38  71.2833        C      0\n",
       "3                   1       3      f   26   7.9250        S      1\n",
       "4                   1       1      f   35  53.1000        S      0\n",
       "5                   0       3      m   35   8.0500        S      1"
      ]
     },
     "execution_count": 37,
     "metadata": {},
     "output_type": "execute_result"
    }
   ],
   "source": [
    "data.drop(['SibSp','Parch'], axis=1, inplace=True)\n",
    "data.head()"
   ]
  },
  {
   "cell_type": "code",
   "execution_count": 38,
   "id": "f4314d71",
   "metadata": {},
   "outputs": [
    {
     "data": {
      "text/plain": [
       "0"
      ]
     },
     "execution_count": 38,
     "metadata": {},
     "output_type": "execute_result"
    }
   ],
   "source": [
    "# check to see that there are 891 non-null rows in the `Alone` column\n",
    "data['Alone'].isna().sum()"
   ]
  },
  {
   "cell_type": "code",
   "execution_count": 39,
   "id": "514d5a6a",
   "metadata": {},
   "outputs": [
    {
     "data": {
      "text/plain": [
       "0    374\n",
       "Name: Survived, dtype: int64"
      ]
     },
     "execution_count": 39,
     "metadata": {},
     "output_type": "execute_result"
    }
   ],
   "source": [
    "alone_dec = data.loc[(data['Alone']==1) & (data['Survived']==0)]\n",
    "alone_dec['Survived'].value_counts()"
   ]
  },
  {
   "cell_type": "code",
   "execution_count": 40,
   "id": "54e1f394",
   "metadata": {},
   "outputs": [
    {
     "data": {
      "text/plain": [
       "1    163\n",
       "Name: Survived, dtype: int64"
      ]
     },
     "execution_count": 40,
     "metadata": {},
     "output_type": "execute_result"
    }
   ],
   "source": [
    "alone_sur = data.loc[(data['Alone']==1) & (data['Survived']==1)]\n",
    "alone_sur['Survived'].value_counts()"
   ]
  },
  {
   "cell_type": "code",
   "execution_count": 41,
   "id": "ce4a63eb",
   "metadata": {},
   "outputs": [
    {
     "data": {
      "text/plain": [
       "0    175\n",
       "Name: Survived, dtype: int64"
      ]
     },
     "execution_count": 41,
     "metadata": {},
     "output_type": "execute_result"
    }
   ],
   "source": [
    "fam_dec = data.loc[(data['Alone']==0) & (data['Survived']==0)]\n",
    "fam_dec['Survived'].value_counts()"
   ]
  },
  {
   "cell_type": "code",
   "execution_count": 42,
   "id": "6f2ff3e0",
   "metadata": {},
   "outputs": [
    {
     "data": {
      "text/plain": [
       "1    179\n",
       "Name: Survived, dtype: int64"
      ]
     },
     "execution_count": 42,
     "metadata": {},
     "output_type": "execute_result"
    }
   ],
   "source": [
    "fam_sur = data.loc[(data['Alone']==0) & (data['Survived']==1)]\n",
    "fam_sur['Survived'].value_counts()"
   ]
  },
  {
   "cell_type": "code",
   "execution_count": 43,
   "id": "710bcfbd",
   "metadata": {},
   "outputs": [
    {
     "data": {
      "text/plain": [
       "891"
      ]
     },
     "execution_count": 43,
     "metadata": {},
     "output_type": "execute_result"
    }
   ],
   "source": [
    "# should add up to 891\n",
    "374+163+175+179"
   ]
  },
  {
   "cell_type": "markdown",
   "id": "9a164827",
   "metadata": {},
   "source": [
    "### 7. Data Visualisation - Second Exploration of the Data"
   ]
  },
  {
   "cell_type": "markdown",
   "id": "c0012a90",
   "metadata": {},
   "source": [
    "Present the data visually - people can rarely understand reams of data. It is important to be able to show a visual representation of the answer to a question."
   ]
  },
  {
   "attachments": {
    "plt_plot_types.jpeg": {
     "image/jpeg": "[encoded data removed]"
    }
   },
   "cell_type": "markdown",
   "id": "0138e19e",
   "metadata": {},
   "source": [
    "### Matplotlib plot types:\n",
    "![plt_plot_types.jpeg](attachment:plt_plot_types.jpeg)"
   ]
  },
  {
   "cell_type": "markdown",
   "id": "0bb73c9b",
   "metadata": {},
   "source": [
    "Source: https://pandas.pydata.org/docs/reference/api/pandas.DataFrame.plot.html"
   ]
  },
  {
   "attachments": {
    "sns_plot_types.jpeg": {
     "image/jpeg": "[encoded data removed]"
    }
   },
   "cell_type": "markdown",
   "id": "ec50f23b",
   "metadata": {},
   "source": [
    "### Seaborn plot types:\n",
    "![sns_plot_types.jpeg](attachment:sns_plot_types.jpeg)"
   ]
  },
  {
   "cell_type": "markdown",
   "id": "887caebe",
   "metadata": {},
   "source": [
    "Source: https://seaborn.pydata.org/tutorial/function_overview.html"
   ]
  },
  {
   "cell_type": "markdown",
   "id": "369282c2",
   "metadata": {},
   "source": [
    "### `Pclass`, `Embarked`, `Fare`\n",
    "\n",
    "Question: Did passengers pay more to travel from Southampton, Cherbourg or Queenstown?"
   ]
  },
  {
   "cell_type": "code",
   "execution_count": 44,
   "id": "ebeb1532",
   "metadata": {},
   "outputs": [
    {
     "data": {
      "image/png": "[encoded data removed]",
      "text/plain": [
       "<Figure size 432x288 with 1 Axes>"
      ]
     },
     "metadata": {
      "needs_background": "light"
     },
     "output_type": "display_data"
    }
   ],
   "source": [
    "sns.barplot(x='Embarked',y='Fare',data=data, palette='rainbow', hue='Pclass')\n",
    "plt.title(\"Fare of Passenger by Embarked Town, Divided by Class\");"
   ]
  },
  {
   "cell_type": "markdown",
   "id": "65038a96",
   "metadata": {},
   "source": [
    "### `Gender`, `Pclass`, `Survived`\n",
    "Question: Did gender affect chances of survival, and was this different in each passenger class?"
   ]
  },
  {
   "cell_type": "code",
   "execution_count": 45,
   "id": "5326b242",
   "metadata": {},
   "outputs": [
    {
     "data": {
      "image/png": "[encoded data removed]",
      "text/plain": [
       "<Figure size 402.375x360 with 1 Axes>"
      ]
     },
     "metadata": {
      "needs_background": "light"
     },
     "output_type": "display_data"
    }
   ],
   "source": [
    "sns.catplot(data=data, x=\"Gender\", y=\"Survived\", hue=\"Pclass\", kind=\"bar\", palette=\"rainbow\");"
   ]
  },
  {
   "cell_type": "markdown",
   "id": "b1a124dc",
   "metadata": {},
   "source": [
    "### `Alone`, `Pclass`, `Survived`\n",
    "Question: Were passengers travelling alone more likely to survive, and was this different in each passenger class?"
   ]
  },
  {
   "cell_type": "code",
   "execution_count": 46,
   "id": "dfbb582e",
   "metadata": {},
   "outputs": [
    {
     "data": {
      "image/png": "[encoded data removed]",
      "text/plain": [
       "<Figure size 864x288 with 4 Axes>"
      ]
     },
     "metadata": {
      "needs_background": "light"
     },
     "output_type": "display_data"
    }
   ],
   "source": [
    "fig, axs = plt.subplots(1, 4, figsize=(12,4), sharex=True)\n",
    "\n",
    "sns.boxplot(data=alone_dec, x='Fare', ax=axs[0], showfliers=False)\n",
    "sns.boxplot(data=alone_sur, x='Fare', ax=axs[1], showfliers=False)\n",
    "sns.boxplot(data=fam_dec, x='Fare', ax=axs[2], showfliers=False)\n",
    "sns.boxplot(data=fam_sur, x='Fare', ax=axs[3], showfliers=False)\n",
    "\n",
    "# Set titles\n",
    "axs[0].title.set_text('Alone and Deceased')\n",
    "axs[1].title.set_text('Alone and Survived')\n",
    "axs[2].title.set_text('Family and Deceased')\n",
    "axs[3].title.set_text('Family and Survived');"
   ]
  },
  {
   "cell_type": "code",
   "execution_count": 47,
   "id": "884bbe3f",
   "metadata": {},
   "outputs": [
    {
     "data": {
      "image/png": "[encoded data removed]",
      "text/plain": [
       "<Figure size 864x288 with 4 Axes>"
      ]
     },
     "metadata": {
      "needs_background": "light"
     },
     "output_type": "display_data"
    }
   ],
   "source": [
    "fig, axs = plt.subplots(1, 4, figsize=(12,4), sharex=True)\n",
    "\n",
    "sns.boxplot(data=alone_dec, x='Age',ax=axs[0])\n",
    "sns.boxplot(data=alone_sur, x='Age',ax=axs[1])\n",
    "sns.boxplot(data=fam_dec, x='Age',ax=axs[2])\n",
    "sns.boxplot(data=fam_sur, x='Age',ax=axs[3])\n",
    "\n",
    "# Set titles\n",
    "axs[0].title.set_text('Alone and Deceased')\n",
    "axs[1].title.set_text('Alone and Survived')\n",
    "axs[2].title.set_text('Family and Deceased')\n",
    "axs[3].title.set_text('Family and Survived')"
   ]
  },
  {
   "cell_type": "code",
   "execution_count": 48,
   "id": "b9253fd3",
   "metadata": {},
   "outputs": [
    {
     "data": {
      "image/png": "[encoded data removed]",
      "text/plain": [
       "<Figure size 402.375x360 with 1 Axes>"
      ]
     },
     "metadata": {
      "needs_background": "light"
     },
     "output_type": "display_data"
    }
   ],
   "source": [
    "sns.catplot(data=data, x=\"Alone\", y=\"Survived\", hue=\"Pclass\", kind=\"bar\", palette=\"rainbow\");"
   ]
  },
  {
   "cell_type": "markdown",
   "id": "86a78470",
   "metadata": {},
   "source": [
    "### `Age`, `Pclass`\n",
    "\n",
    "Question: How does age vary by passenger class?"
   ]
  },
  {
   "cell_type": "code",
   "execution_count": 49,
   "id": "8fa48f8d",
   "metadata": {},
   "outputs": [
    {
     "data": {
      "image/png": "[encoded data removed]",
      "text/plain": [
       "<Figure size 576x360 with 2 Axes>"
      ]
     },
     "metadata": {
      "needs_background": "light"
     },
     "output_type": "display_data"
    }
   ],
   "source": [
    "plt.figure(figsize=(8,5))\n",
    "\n",
    "plt.subplot(1,2,1)\n",
    "sns.boxplot(x='Pclass',y='Age',data=data, palette='rainbow')\n",
    "plt.title(\"Age by Passenger Class\")\n",
    "\n",
    "plt.subplot(1,2,2)\n",
    "sns.boxenplot(x='Pclass', y='Age', data=data, palette='rainbow')\n",
    "plt.title(\"Distribution of Age by Passenger Class\")\n",
    "\n",
    "plt.tight_layout();"
   ]
  },
  {
   "cell_type": "markdown",
   "id": "20722edd",
   "metadata": {},
   "source": [
    "### `Age`, `Pclass`, `Survived`\n",
    "\n",
    "Question: Subset by passenger class, does age impact the likelihood of survival?"
   ]
  },
  {
   "cell_type": "code",
   "execution_count": 50,
   "id": "942d00a3",
   "metadata": {},
   "outputs": [
    {
     "data": {
      "image/png": "[encoded data removed]",
      "text/plain": [
       "<Figure size 576x360 with 2 Axes>"
      ]
     },
     "metadata": {
      "needs_background": "light"
     },
     "output_type": "display_data"
    }
   ],
   "source": [
    "plt.figure(figsize=(8,5))\n",
    "\n",
    "plt.subplot(2,1,1)\n",
    "ax0 = sns.boxplot(x='Pclass',y='Age',data=data, palette='rainbow', hue='Survived')\n",
    "sns.move_legend(ax0, \"upper left\", bbox_to_anchor=(1, 1))\n",
    "plt.title(\"Age by Passenger Class\")\n",
    "\n",
    "plt.subplot(2,1,2)\n",
    "ax1 = sns.boxenplot(x='Pclass',y='Age',data=data, palette='rainbow', hue='Survived')\n",
    "sns.move_legend(ax1, \"upper left\", bbox_to_anchor=(1, 1))\n",
    "plt.title(\"Age by Passenger Class\")\n",
    "\n",
    "plt.tight_layout();"
   ]
  },
  {
   "cell_type": "code",
   "execution_count": 51,
   "id": "b899d282",
   "metadata": {},
   "outputs": [
    {
     "data": {
      "image/png": "[encoded data removed]",
      "text/plain": [
       "<Figure size 432x288 with 2 Axes>"
      ]
     },
     "metadata": {
      "needs_background": "light"
     },
     "output_type": "display_data"
    }
   ],
   "source": [
    "sns.heatmap(data.corr(), square=True, annot=True, cmap='RdYlGn');"
   ]
  }
 ],
 "metadata": {
  "kernelspec": {
   "display_name": "Python 3 (ipykernel)",
   "language": "python",
   "name": "python3"
  },
  "language_info": {
   "codemirror_mode": {
    "name": "ipython",
    "version": 3
   },
   "file_extension": ".py",
   "mimetype": "text/x-python",
   "name": "python",
   "nbconvert_exporter": "python",
   "pygments_lexer": "ipython3",
   "version": "3.9.12"
  }
 },
 "nbformat": 4,
 "nbformat_minor": 5
}
